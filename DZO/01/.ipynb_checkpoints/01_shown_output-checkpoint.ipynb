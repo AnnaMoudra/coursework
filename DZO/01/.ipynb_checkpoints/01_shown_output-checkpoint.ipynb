{
 "cells": [
  {
   "cell_type": "markdown",
   "metadata": {},
   "source": [
    "## Monadické operace\n",
    "\n",
    "- negativ\n",
    "- prahování\n",
    "- změna jasu\n",
    "- změna kontrastu\n",
    "- gamma korekce\n",
    "- nelin. kontrast\n",
    "- log. škálování\n",
    "- ekvalizace histogramu\n"
   ]
  },
  {
   "cell_type": "code",
   "execution_count": 51,
   "metadata": {},
   "outputs": [],
   "source": [
    "import numpy as np\n",
    "\n",
    "import matplotlib\n",
    "matplotlib.use('Agg')\n",
    "from matplotlib import pyplot as plt\n",
    "import scipy.misc\n",
    "import cv2"
   ]
  },
  {
   "cell_type": "code",
   "execution_count": 52,
   "metadata": {},
   "outputs": [],
   "source": [
    "def load_image(path):\n",
    "    im = cv2.imread(\"./imgs/\"+path)\n",
    "    return im\n",
    "\n",
    "def save_image(img, path):\n",
    "    cv2.imwrite(\"./results/\"+path, img)\n",
    "    \n",
    "def save_histogram(img, path):\n",
    "    cv2.imwrite(\"./histograms/\"+path, img)"
   ]
  },
  {
   "cell_type": "code",
   "execution_count": 98,
   "metadata": {},
   "outputs": [],
   "source": [
    "def get_hist(img, name):\n",
    "    plt.ioff()\n",
    "    plt.figure(figsize=(12,5))\n",
    "    fig = plt.hist(img.flatten(),bins=256, range=(0,255), color = \"k\")\n",
    "    plt.axis('off')\n",
    "    plt.savefig(\"./histograms/\"+name,bbox_inches='tight',pad_unches=-0.1)\n",
    "    plt.close()"
   ]
  },
  {
   "cell_type": "code",
   "execution_count": 105,
   "metadata": {},
   "outputs": [],
   "source": [
    "marlon = load_image(\"marlon.jpg\")\n",
    "get_hist(marlon,\"marlon.jpg\" );"
   ]
  },
  {
   "cell_type": "markdown",
   "metadata": {},
   "source": [
    "#### Original and histogram\n",
    "<table><tr><td><img src=\"./imgs/marlon.jpg\" width=\"200\" /></td><td><img src=\"./histograms/marlon.jpg\" width=\"200\" /></td></tr></table>"
   ]
  },
  {
   "cell_type": "markdown",
   "metadata": {},
   "source": [
    "### Negativ"
   ]
  },
  {
   "cell_type": "code",
   "execution_count": 110,
   "metadata": {},
   "outputs": [],
   "source": [
    "def negativ(img):\n",
    "    neg = img.copy()\n",
    "    #print(\"image shape: \", neg.shape)\n",
    "    for i in range(neg.shape[0]):\n",
    "        for j in range(neg.shape[1]):\n",
    "            pixel = list(neg[i,j])\n",
    "            for channel in range(len(pixel)):\n",
    "                neg[i,j][channel] = 255 - pixel[channel]\n",
    "\n",
    "    return neg"
   ]
  },
  {
   "cell_type": "code",
   "execution_count": 111,
   "metadata": {},
   "outputs": [],
   "source": [
    "images_in = ['marlon.jpg', 'peppers.png']\n",
    "images_out = ['marlon_neg.jpg', 'peppers_neg.png']\n",
    "hist_out = ['marlon_neg_hist.jpg', 'peppers_neg_hist.png']\n",
    "\n",
    "for p_in,p_out, h_out in zip(images_in,images_out, hist_out):\n",
    "    img = load_image(p_in)\n",
    "    neg = negativ(img)\n",
    "    get_hist(neg, p_out)\n",
    "    save_image(neg,p_out)\n",
    "    save_image(neg,h_out)"
   ]
  },
  {
   "cell_type": "markdown",
   "metadata": {},
   "source": [
    "#### Original and negative\n",
    "\n",
    "<table><tr><td><img src=\"imgs/marlon.jpg\" width=\"200\"/></td><td><img src=\"results/marlon_neg.jpg\" width=\"200\"/></td></tr>\n",
    "\n",
    "<tr><td><img src=\"histograms/marlon.jpg\" width=\"200\"/></td><td><img src=\"histograms/marlon_neg.jpg\" width=\"200\"/></td></tr>\n",
    "\n",
    "<tr><td><img src=\"imgs/peppers.png\" width=\"200\"/></td><td><img src=\"results/peppers_neg.png\" width=\"200\"/></td></tr></table>\n"
   ]
  },
  {
   "cell_type": "markdown",
   "metadata": {},
   "source": [
    "### Prahování"
   ]
  },
  {
   "cell_type": "code",
   "execution_count": 116,
   "metadata": {},
   "outputs": [],
   "source": [
    "def threshold(img, thr):\n",
    "    thresh = img.copy()\n",
    "    \n",
    "    for i in range(img.shape[0]):\n",
    "        for j in range(img.shape[1]):\n",
    "            pixel = list(img[i,j])\n",
    "            for channel in range(len(pixel)):\n",
    "                if(pixel[channel] < thr):\n",
    "                    thresh[i,j][channel] = 0\n",
    "                else:\n",
    "                    thresh[i,j][channel]  = 255\n",
    "    return thresh\n",
    "    "
   ]
  },
  {
   "cell_type": "code",
   "execution_count": 169,
   "metadata": {},
   "outputs": [],
   "source": [
    "images_out = ['./marlon_thr.jpg', './peppers_thr.png']\n",
    "\n",
    "for p_in,p_out in zip(images_in[:1],images_out[:1]):\n",
    "    img = load_image(p_in)\n",
    "    thresh = threshold(img, thr=110)\n",
    "    get_hist(thresh,p_out)\n",
    "    save_image(thresh,p_out)"
   ]
  },
  {
   "cell_type": "markdown",
   "metadata": {},
   "source": [
    "#### Original and thresholded image\n",
    "\n",
    "<table><tr><td><img src=\"imgs/marlon.jpg\" width=\"200\"/></td><td><img src=\"results/marlon_thr.jpg\" width=\"200\"/></td></tr>\n",
    "\n",
    "<tr><td><img src=\"histograms/marlon.jpg\" width=\"200\"/></td><td><img src=\"histograms/marlon_thr.jpg\" width=\"200\"/></td></tr></table>\n"
   ]
  },
  {
   "cell_type": "markdown",
   "metadata": {},
   "source": [
    "### Změna jasu"
   ]
  },
  {
   "cell_type": "code",
   "execution_count": 120,
   "metadata": {},
   "outputs": [],
   "source": [
    "def brightness(img, b):\n",
    "    brigh = img.copy()\n",
    "    \n",
    "    for i in range(img.shape[0]):\n",
    "        for j in range(img.shape[1]):\n",
    "            pixel = list(img[i,j])\n",
    "            for channel in range(len(pixel)):\n",
    "                brigh[i,j][channel] = np.clip(pixel[channel]+b,0,255)\n",
    "    return brigh\n",
    "    \n",
    "    "
   ]
  },
  {
   "cell_type": "code",
   "execution_count": 122,
   "metadata": {},
   "outputs": [],
   "source": [
    "images_out = ['./marlon_brgh+.jpg', './peppers_brgh+.png','./marlon_brgh-.jpg', './peppers_brgh-.png']\n",
    "\n",
    "for p_in,p_out,b in zip(images_in*2,images_out, [70,70,-70,-70]):\n",
    "    img = load_image(p_in)\n",
    "    brg= brightness(img, b)\n",
    "    get_hist(brg,p_out)\n",
    "    save_image(brg,p_out)"
   ]
  },
  {
   "cell_type": "markdown",
   "metadata": {},
   "source": [
    "#### Original and brightness change</h3>\n",
    "\n",
    "<table><tr><td><img src=\"imgs/marlon.jpg\" width=\"200\"/></td><td><img src=\"results/marlon_brgh+.jpg\" width=\"200\"/></td><td><img src=\"results/marlon_brgh-.jpg\" width=\"200\"/></td></tr>\n",
    "\n",
    "<tr><td><img src=\"histograms/marlon.jpg\" width=\"200\"/></td><td><img src=\"histograms/marlon_brgh+.jpg\" width=\"200\"/></td><td><img src=\"histograms/marlon_brgh-.jpg\" width=\"200\"/></td></tr>\n",
    "\n",
    "<tr><td><img src=\"imgs/peppers.png\" width=\"200\"/></td><td><img src=\"results/peppers_brgh+.png\" width=\"200\"/></td><td><img src=\"results/peppers_brgh-.png\" width=\"200\"/></td></tr></table>\n"
   ]
  },
  {
   "cell_type": "markdown",
   "metadata": {},
   "source": [
    "### Změna kontrastu"
   ]
  },
  {
   "cell_type": "code",
   "execution_count": 126,
   "metadata": {},
   "outputs": [],
   "source": [
    "def contrast(img,c):\n",
    "    con = img.copy()\n",
    "    \n",
    "    for i in range(img.shape[0]):\n",
    "        for j in range(img.shape[1]):\n",
    "            pixel = list(img[i,j])\n",
    "            for channel in range(len(pixel)):\n",
    "                con[i,j][channel] = np.clip(pixel[channel]*c,0,255)\n",
    "    return con\n",
    "    "
   ]
  },
  {
   "cell_type": "code",
   "execution_count": 127,
   "metadata": {},
   "outputs": [],
   "source": [
    "images_out = ['./marlon_con+.jpg', './peppers_con+.png','./marlon_con-.jpg', './peppers_con-.png']\n",
    "\n",
    "for p_in,p_out,c in zip(images_in*2,images_out, [0.7,0.7,1.2,1.2]):\n",
    "    img = load_image(p_in)\n",
    "    con = contrast(img, c)\n",
    "    get_hist(con,p_out)\n",
    "    save_image(con,p_out)"
   ]
  },
  {
   "cell_type": "markdown",
   "metadata": {},
   "source": [
    "#### Original and contrast change\n",
    "\n",
    "<table><tr><td><img src=\"imgs/marlon.jpg\" width=\"200\"/></td><td><img src=\"results/marlon_con+.jpg\" width=\"200\"/></td><td><img src=\"results/marlon_con-.jpg\" width=\"200\"/></td></tr>\n",
    "\n",
    "<tr><td><img src=\"histograms/marlon.jpg\" width=\"200\"/></td><td><img src=\"histograms/marlon_con+.jpg\" width=\"200\"/></td><td><img src=\"histograms/marlon_con-.jpg\" width=\"200\"/></td></tr></table>\n"
   ]
  },
  {
   "cell_type": "markdown",
   "metadata": {},
   "source": [
    "### Gamma korekce"
   ]
  },
  {
   "cell_type": "code",
   "execution_count": 130,
   "metadata": {},
   "outputs": [],
   "source": [
    "def gamma_cor(img, gamma):\n",
    "    gm = img.copy()\n",
    "    \n",
    "    for i in range(img.shape[0]):\n",
    "        for j in range(img.shape[1]):\n",
    "            pixel = list(img[i,j])\n",
    "            for channel in range(len(pixel)):\n",
    "                normed = pixel[channel]/255.0\n",
    "                gm[i,j][channel] = int(np.clip(pow(normed,gamma),0,1)*255)\n",
    "    return gm\n",
    "    "
   ]
  },
  {
   "cell_type": "code",
   "execution_count": 133,
   "metadata": {},
   "outputs": [],
   "source": [
    "images_out = ['./marlon_gm+.jpg', './peppers_gm+.png','./marlon_gm-.jpg', './peppers_gm-.png']\n",
    "\n",
    "for p_in,p_out,g in zip(images_in*2,images_out, [0.5,0.5,2.,2.]):\n",
    "    img = load_image(p_in)\n",
    "    gm = gamma_cor(img, g)\n",
    "    get_hist(gm,p_out)\n",
    "    save_image(gm,p_out)"
   ]
  },
  {
   "cell_type": "markdown",
   "metadata": {},
   "source": [
    "#### Original and gamma correction\n",
    "<table><tr><td><img src=\"imgs/marlon.jpg\" width=\"200\"/></td><td><img src=\"results/marlon_gm+.jpg\" width=\"200\"/></td><td><img src=\"results/marlon_gm-.jpg\" width=\"200\"/></td></tr>\n",
    "\n",
    "<tr><td><img src=\"histograms/marlon.jpg\" width=\"200\"/></td><td><img src=\"histograms/marlon_gm+.jpg\" width=\"200\"/></td><td><img src=\"histograms/marlon_gm-.jpg\" width=\"200\"/></td></tr></table>\n"
   ]
  },
  {
   "cell_type": "markdown",
   "metadata": {},
   "source": [
    "### Nelineární kontrast"
   ]
  },
  {
   "cell_type": "code",
   "execution_count": 137,
   "metadata": {},
   "outputs": [],
   "source": [
    "def nonlin_contrast(img, alpha):\n",
    "    con = img.copy()\n",
    "    gamma = 1./(1-alpha)\n",
    "    \n",
    "    for i in range(img.shape[0]):\n",
    "        for j in range(img.shape[1]):\n",
    "            pixel = list(img[i,j])\n",
    "            for channel in range(len(pixel)):\n",
    "                normed = pixel[channel]/255.\n",
    "                if(normed < 0.5):\n",
    "                    con[i,j][channel] = int(np.clip(0.5*pow(2*normed,gamma),0,1)*255)\n",
    "                else:\n",
    "                    con[i,j][channel] = int(np.clip(1-0.5*pow(2-2*normed,gamma),0,1)*255)\n",
    "    return con\n",
    "    "
   ]
  },
  {
   "cell_type": "code",
   "execution_count": 174,
   "metadata": {},
   "outputs": [],
   "source": [
    "images_out = ['./marlon_ncon+.jpg', './marlon_ncon++.jpg']\n",
    "\n",
    "for p_in,p_out,a in zip(images_in[:1]*2,images_out, [0.4,0.7]):\n",
    "    img = load_image(p_in)\n",
    "    con = nonlin_contrast(img, a)\n",
    "    get_hist(con,p_out)\n",
    "    save_image(con,p_out)"
   ]
  },
  {
   "cell_type": "markdown",
   "metadata": {},
   "source": [
    "#### Original and non-linear contrast change\n",
    "\n",
    "<table><tr><td><img src=\"imgs/marlon.jpg\" width=\"200\"/></td><td><img src=\"results/marlon_ncon+.jpg\" width=\"200\"/></td><td><img src=\"results/marlon_ncon++.jpg\" width=\"200\"/></td></tr>\n",
    "\n",
    "<tr><td><img src=\"histograms/marlon.jpg\" width=\"200\"/></td><td><img src=\"histograms/marlon_ncon+.jpg\" width=\"200\"/></td><td><img src=\"histograms/marlon_ncon++.jpg\" width=\"200\"/></td></tr></table>\n"
   ]
  },
  {
   "cell_type": "markdown",
   "metadata": {},
   "source": [
    "###  Logaritmické škálování"
   ]
  },
  {
   "cell_type": "code",
   "execution_count": 140,
   "metadata": {},
   "outputs": [],
   "source": [
    "def log_scale(img,s):\n",
    "    sc = img.copy()\n",
    "    \n",
    "    for i in range(img.shape[0]):\n",
    "        for j in range(img.shape[1]):\n",
    "            pixel = list(img[i,j])\n",
    "            for channel in range(len(pixel)):\n",
    "                normed = pixel[channel]/255.\n",
    "                T_l = np.log(1 + normed*s)/np.log(1 + s)\n",
    "                sc[i,j][channel] = int(np.clip(T_l,0,1)*255)\n",
    "\n",
    "    return sc\n",
    "    "
   ]
  },
  {
   "cell_type": "code",
   "execution_count": 142,
   "metadata": {},
   "outputs": [],
   "source": [
    "images_out = ['./marlon_ls+.jpg', './marlon_ls++.jpg']\n",
    "\n",
    "for p_in,p_out,s in zip(images_in[:1]*2,images_out, [0.75,8.0]):\n",
    "    img = load_image(p_in)\n",
    "    ls = log_scale(img, s)\n",
    "    get_hist(ls,p_out)\n",
    "    save_image(ls,p_out)"
   ]
  },
  {
   "cell_type": "markdown",
   "metadata": {},
   "source": [
    "#### Original and log scale\n",
    "\n",
    "<table><tr><td><img src=\"imgs/marlon.jpg\" width=\"200\"/></td><td><img src=\"results/marlon_ls+.jpg\" width=\"200\"/></td><td><img src=\"results/marlon_ls++.jpg\" width=\"200\"/></td></tr>\n",
    "\n",
    "<tr><td><img src=\"histograms/marlon.jpg\" width=\"200\"/></td><td><img src=\"histograms/marlon_ls+.jpg\" width=\"200\"/></td><td><img src=\"histograms/marlon_ls++.jpg\" width=\"200\"/></td></tr></table>\n"
   ]
  },
  {
   "cell_type": "markdown",
   "metadata": {},
   "source": [
    "### Ekvalizace histogramu"
   ]
  },
  {
   "cell_type": "code",
   "execution_count": 167,
   "metadata": {},
   "outputs": [],
   "source": [
    "def equalize(img):\n",
    "    ekv = img.copy()\n",
    "    hist, be = np.histogram(img.copy().flatten(), bins=256, range=(0,255))\n",
    "    pixel_cnt = img.shape[0]*img.shape[1]*img.shape[2]\n",
    "    \n",
    "    for i in range(img.shape[0]):\n",
    "        for j in range(img.shape[1]):\n",
    "            pixel = list(img[i,j])\n",
    "            for channel in range(len(pixel)):\n",
    "                value = pixel[channel]\n",
    "                cdf_value = sum(hist[0:value])/float(pixel_cnt)\n",
    "                equalized_val = cdf_value*255\n",
    "                ekv[i,j][channel] = ekvalized_val\n",
    "                \n",
    "    return ekv"
   ]
  },
  {
   "cell_type": "code",
   "execution_count": 168,
   "metadata": {},
   "outputs": [],
   "source": [
    "p_in = images_in[0]\n",
    "p_out = './marlon_e.jpg'\n",
    "\n",
    "img = load_image(p_in)\n",
    "ekv = equalize(img)\n",
    "get_hist(ekv,p_out)\n",
    "save_image(ekv,p_out)\n"
   ]
  },
  {
   "cell_type": "markdown",
   "metadata": {},
   "source": [
    "#### Original and histogram equalization\n",
    "\n",
    "<table><tr><td><img src=\"imgs/marlon.jpg\" width=\"200\"/></td><td><img src=\"results/marlon_e.jpg\" width=\"200\"/></td></tr>\n",
    "\n",
    "<tr><td><img src=\"histograms/marlon.jpg\" width=\"200\"/></td><td><img src=\"histograms/marlon_e.jpg\" width=\"200\"/></td></tr></table>\n"
   ]
  },
  {
   "cell_type": "code",
   "execution_count": null,
   "metadata": {},
   "outputs": [],
   "source": []
  }
 ],
 "metadata": {
  "kernelspec": {
   "display_name": "Python 3",
   "language": "python",
   "name": "python3"
  },
  "language_info": {
   "codemirror_mode": {
    "name": "ipython",
    "version": 3
   },
   "file_extension": ".py",
   "mimetype": "text/x-python",
   "name": "python",
   "nbconvert_exporter": "python",
   "pygments_lexer": "ipython3",
   "version": "3.5.2"
  }
 },
 "nbformat": 4,
 "nbformat_minor": 4
}
