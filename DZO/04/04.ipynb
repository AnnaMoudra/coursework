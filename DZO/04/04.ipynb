{
 "cells": [
  {
   "cell_type": "markdown",
   "metadata": {},
   "source": [
    "### Bilateral filter"
   ]
  },
  {
   "cell_type": "code",
   "execution_count": 1,
   "metadata": {},
   "outputs": [],
   "source": [
    "import numpy as np\n",
    "import cv2\n",
    "import matplotlib\n",
    "from matplotlib import pyplot as plt\n",
    "import seaborn as sns\n",
    "\n",
    "def load_image(path):\n",
    "    im = cv2.imread(\"./imgs/\"+path)\n",
    "    return im\n",
    "\n",
    "def save_image(img, path):\n",
    "    cv2.imwrite(\"./results/\"+path, img)"
   ]
  },
  {
   "cell_type": "markdown",
   "metadata": {},
   "source": [
    "### Loading test images"
   ]
  },
  {
   "cell_type": "code",
   "execution_count": 2,
   "metadata": {},
   "outputs": [],
   "source": [
    "arch = load_image(\"arch.png\")\n",
    "samurai = load_image(\"7samurai_s.jpg\")\n",
    "peppers = load_image(\"peppers.png\")\n",
    "lena = load_image(\"lena.jpg\")\n",
    "museum = load_image(\"museum_s.jpg\")"
   ]
  },
  {
   "cell_type": "markdown",
   "metadata": {},
   "source": [
    "### Weight computations"
   ]
  },
  {
   "cell_type": "code",
   "execution_count": 3,
   "metadata": {},
   "outputs": [],
   "source": [
    "#space weight\n",
    "def gaussian(sigma, k):\n",
    "    v = []\n",
    "    for i in range(k):\n",
    "        l = i - k//2\n",
    "        g = np.exp(-(l*l) / (2 * (sigma**2)))\n",
    "        v.append(g)\n",
    "    return v"
   ]
  },
  {
   "cell_type": "code",
   "execution_count": 4,
   "metadata": {},
   "outputs": [],
   "source": [
    "#range weight\n",
    "def gaussianB(px,center,sigmab,log=False):\n",
    "    diff = abs(px - center)\n",
    "    if(log):\n",
    "        diff = (np.log(px+1)-np.log(center+1))*255\n",
    "\n",
    "    g = np.exp(-(diff*diff) / (2 * (sigmab**2)))\n",
    "    return g"
   ]
  },
  {
   "cell_type": "code",
   "execution_count": 5,
   "metadata": {},
   "outputs": [
    {
     "name": "stdout",
     "output_type": "stream",
     "text": [
      "0.029421088428327302 0.19789869908361465\n"
     ]
    },
    {
     "data": {
      "image/png": "[encoded data removed]",
      "text/plain": [
       "<Figure size 432x288 with 1 Axes>"
      ]
     },
     "metadata": {
      "needs_background": "light"
     },
     "output_type": "display_data"
    }
   ],
   "source": [
    "### test normalizace\n",
    "center = 181\n",
    "log=False\n",
    "sigmab = 10\n",
    "\n",
    "v = []\n",
    "m = []\n",
    "for i in range(0,255):\n",
    "    v.append(gaussianB(i,center,sigmab,True))\n",
    "    m.append(gaussianB(i,center,sigmab,False))\n",
    "    \n",
    "plt.plot(v)\n",
    "plt.plot(m)\n",
    "plt.legend([\"log\",\"abs\"])\n",
    "print(v[163],m[163])"
   ]
  },
  {
   "cell_type": "markdown",
   "metadata": {},
   "source": [
    "### Filtering"
   ]
  },
  {
   "cell_type": "code",
   "execution_count": 162,
   "metadata": {},
   "outputs": [],
   "source": [
    "\n",
    "def convolution(img,k,sigmaG, sigmab,log=False):\n",
    "    n,m,c = img.shape\n",
    "    final = np.zeros((n,m,c))\n",
    "    half = k//2\n",
    "\n",
    "    #space weight vector\n",
    "    v = gaussian(sigmaG,k)\n",
    "    v = np.outer(v,v) # not normalized\n",
    "    \n",
    "\n",
    "    for channel in range(c):\n",
    "        # adding padding to edges\n",
    "        d,e = np.pad(img[:,:,channel].copy(), half, 'reflect').shape\n",
    "        im = img[:,:,channel].copy()\n",
    "        #empty array for new data\n",
    "        conv = np.zeros((n,m))\n",
    "        \n",
    "        for (x,y), pix in np.ndenumerate(np.zeros((n,m))):\n",
    "            pix_val = 0.0\n",
    "            W = 0.0\n",
    "            center = im[x,y]\n",
    "            for (k,l), val in np.ndenumerate(v):\n",
    "                im_pos_x = abs(x-(k-half))\n",
    "                im_pos_y = abs(y-(l-half))\n",
    "                if(im_pos_x >= n):\n",
    "                    im_pos_x += (n - im_pos_x - 1) \n",
    "                if(im_pos_y >= m):\n",
    "                    im_pos_y += (m - im_pos_y - 1) \n",
    "                im_pix = im[im_pos_x,im_pos_y]\n",
    "                gaussB = gaussianB(im_pix, center, sigmab, log)\n",
    "                W += val*gaussB\n",
    "                pix_val += im_pix * val * gaussB\n",
    "                \n",
    "            conv[x,y] = pix_val/W  #normalization factor\n",
    "\n",
    "\n",
    "        # cutting of padding\n",
    "        final[:,:,channel] = conv\n",
    "    \n",
    "    final = final.astype(int)\n",
    "    return final"
   ]
  },
  {
   "cell_type": "code",
   "execution_count": 163,
   "metadata": {},
   "outputs": [],
   "source": [
    "f = gaussian(1.5,9)"
   ]
  },
  {
   "cell_type": "code",
   "execution_count": null,
   "metadata": {},
   "outputs": [],
   "source": []
  },
  {
   "cell_type": "code",
   "execution_count": null,
   "metadata": {},
   "outputs": [],
   "source": []
  },
  {
   "cell_type": "code",
   "execution_count": null,
   "metadata": {},
   "outputs": [],
   "source": [
    "# sigma and kernel size computation\n",
    "sigma = 1.5\n",
    "ker = int(6*sigma)\n",
    "ker += ker%2==0 and 1 or 0\n",
    "sigmaB = 10\n",
    "print(sigma, ker, sigmaB)\n",
    "print(gaussianB(164,181,10,True))\n",
    "33res = convolution(museum, ker,sigma, sigmaB, True)"
   ]
  },
  {
   "cell_type": "markdown",
   "metadata": {},
   "source": [
    "### Runs"
   ]
  },
  {
   "cell_type": "code",
   "execution_count": null,
   "metadata": {},
   "outputs": [],
   "source": [
    "images = [peppers]\n",
    "names = [\"peppers\"]\n",
    "\n",
    "for sigmaB in [10,50,250]:\n",
    "    for sigma in [3,5,10]:\n",
    "        for im, name in zip(images, names):\n",
    "            ker = int(6*sigma)\n",
    "            ker += ker%2==0 and 1 or 0\n",
    "            res = convolution(im, ker, sigma, sigmaB, False);\n",
    "            save_image(res,name+\" \"+str(sigma)+\"_\"+str(sigmaB)+\".jpg\")\n",
    "            "
   ]
  },
  {
   "cell_type": "code",
   "execution_count": null,
   "metadata": {},
   "outputs": [],
   "source": [
    "images = [museum]\n",
    "names = [\"museum\"]\n",
    "\n",
    "for sigma in [5]:\n",
    "    for l in [False, True]:\n",
    "        for sigmaB in [5,10,50,150]:\n",
    "            for im, name in zip(images, names):\n",
    "                ker = int(6*sigma)\n",
    "                ker += ker%2==0 and 1 or 0\n",
    "                res = convolution(im, ker, sigma, sigmaB, True);\n",
    "                if(l):\n",
    "                    save_image(res,name+\" \"+str(sigma)+\"_\"+str(sigmaB)+\"_log.jpg\")\n",
    "                else:\n",
    "                    save_image(res,name+\" \"+str(sigma)+\"_\"+str(sigmaB)+\".jpg\")\n",
    "           "
   ]
  },
  {
   "cell_type": "code",
   "execution_count": null,
   "metadata": {},
   "outputs": [],
   "source": []
  }
 ],
 "metadata": {
  "kernelspec": {
   "display_name": "Python 3",
   "language": "python",
   "name": "python3"
  },
  "language_info": {
   "codemirror_mode": {
    "name": "ipython",
    "version": 3
   },
   "file_extension": ".py",
   "mimetype": "text/x-python",
   "name": "python",
   "nbconvert_exporter": "python",
   "pygments_lexer": "ipython3",
   "version": "3.5.2"
  }
 },
 "nbformat": 4,
 "nbformat_minor": 4
}
