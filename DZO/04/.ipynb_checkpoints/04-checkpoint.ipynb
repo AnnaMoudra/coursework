{
 "cells": [
  {
   "cell_type": "markdown",
   "metadata": {},
   "source": [
    "### Non-linear filtration"
   ]
  },
  {
   "cell_type": "code",
   "execution_count": 36,
   "metadata": {},
   "outputs": [],
   "source": [
    "import numpy as np\n",
    "import cv2\n",
    "import matplotlib\n",
    "from matplotlib import pyplot as plt\n",
    "import seaborn as sns\n",
    "\n",
    "def load_image(path):\n",
    "    im = cv2.imread(\"./imgs/\"+path)\n",
    "    return im\n",
    "\n",
    "def save_image(img, path):\n",
    "    cv2.imwrite(\"./results/\"+path, img)"
   ]
  },
  {
   "cell_type": "markdown",
   "metadata": {},
   "source": [
    "### Loading test images"
   ]
  },
  {
   "cell_type": "code",
   "execution_count": 28,
   "metadata": {},
   "outputs": [],
   "source": [
    "arch = load_image(\"arch.png\")\n",
    "samurai = load_image(\"7samurai_s.jpg\")\n",
    "peppers = load_image(\"peppers.png\")\n",
    "lena = load_image(\"lena.jpg\")\n",
    "museum = load_image(\"museum_s.jpg\")"
   ]
  },
  {
   "cell_type": "markdown",
   "metadata": {},
   "source": [
    "### Weight computations"
   ]
  },
  {
   "cell_type": "code",
   "execution_count": 29,
   "metadata": {},
   "outputs": [],
   "source": [
    "#space weight\n",
    "def gaussian(sigma, k):\n",
    "    v = []\n",
    "    for i in range(k):\n",
    "        l = i - k//2\n",
    "        g = (1./np.sqrt(2*np.pi*(sigma**2)))*np.exp(-(l*l) / (2 * (sigma**2)))\n",
    "        v.append(g)\n",
    "    #v /= sum(v)\n",
    "    return v"
   ]
  },
  {
   "cell_type": "code",
   "execution_count": 30,
   "metadata": {},
   "outputs": [],
   "source": [
    "#range weight\n",
    "def function_b(px,center, sigmab, k, log=False):\n",
    "    # 1D gauss\n",
    "    # big difference -> gauss to 0\n",
    "    # small difference -> gaus to 1\n",
    "    diff = abs(px - center)\n",
    "    if(log):\n",
    "        diff = np.log(px) - np.log(center)\n",
    "\n",
    "    g = (1./np.sqrt(2*np.pi*(sigmab**2)))*np.exp(-(diff*diff) / (2 * (sigmab**2)))\n",
    "    return g"
   ]
  },
  {
   "cell_type": "markdown",
   "metadata": {},
   "source": [
    "### Filtering"
   ]
  },
  {
   "cell_type": "code",
   "execution_count": 31,
   "metadata": {},
   "outputs": [],
   "source": [
    "\n",
    "def convolution(img,k,sigmaG, sigmab,log=False):\n",
    "    n,m,c = img.shape\n",
    "    final = np.zeros((n,m,c))\n",
    "    half = k//2\n",
    "\n",
    "    #space weight vector\n",
    "    v = []\n",
    "    for i in range(k):\n",
    "        l = i - half\n",
    "        g = (1./np.sqrt(2. *np.pi*sigmaG**2))*np.exp(-(l**2) / (2. * sigmaG**2))\n",
    "        v.append(g)\n",
    "    v = np.outer(v,v) # not normalized\n",
    "\n",
    "    for channel in range(c):\n",
    "        # adding padding to edges\n",
    "        d,e = np.pad(img[:,:,channel].copy(), half, 'reflect').shape\n",
    "        im = img[:,:,channel].copy()\n",
    "        #empty array for new data\n",
    "        conv = np.zeros((n,m))\n",
    "        \n",
    "        for (x,y), pix in np.ndenumerate(np.zeros((n,m))):\n",
    "            pix_val = 0.0\n",
    "            W = 0.0\n",
    "            center = im[x,y]\n",
    "            for (k,l), val in np.ndenumerate(v):\n",
    "                im_pos_x = abs(x-(k-half))\n",
    "                im_pos_y = abs(y-(l-half))\n",
    "                if(im_pos_x >= n):\n",
    "                    im_pos_x += (n - im_pos_x - 1) \n",
    "                if(im_pos_y >= m):\n",
    "                    im_pos_y += (m - im_pos_y - 1) \n",
    "                im_pix = im[im_pos_x,im_pos_y]\n",
    "                gaussB = function_b(im_pix, center, sigmab, k, log)\n",
    "                W += val*gaussB\n",
    "                pix_val += im_pix * val * gaussB\n",
    "            conv[x,y] = pix_val/W  #normalization factor\n",
    "\n",
    "\n",
    "        # cutting of padding\n",
    "        final[:,:,channel] = conv\n",
    "    \n",
    "    final = final.astype(int)\n",
    "    return final"
   ]
  },
  {
   "cell_type": "code",
   "execution_count": 38,
   "metadata": {},
   "outputs": [
    {
     "name": "stdout",
     "output_type": "stream",
     "text": [
      "1.5 9 60\n"
     ]
    }
   ],
   "source": [
    "# sigma and kernel size computation\n",
    "sigma = 1.5\n",
    "ker = int(6*sigma)\n",
    "ker += ker%2==0 and 1 or 0\n",
    "sigmaB = 60\n",
    "print(sigma, ker, sigmaB)\n",
    "#res = convolution(arch, ker,sigma, sigmaB)"
   ]
  },
  {
   "cell_type": "markdown",
   "metadata": {},
   "source": [
    "### Runs"
   ]
  },
  {
   "cell_type": "code",
   "execution_count": 40,
   "metadata": {
    "collapsed": true,
    "jupyter": {
     "outputs_hidden": true
    }
   },
   "outputs": [
    {
     "name": "stderr",
     "output_type": "stream",
     "text": [
      "/home/girlingreyshirt/.local/lib/python3.5/site-packages/ipykernel_launcher.py:6: RuntimeWarning: overflow encountered in ubyte_scalars\n",
      "  \n",
      "/home/girlingreyshirt/.local/lib/python3.5/site-packages/ipykernel_launcher.py:8: RuntimeWarning: divide by zero encountered in log\n",
      "  \n",
      "/home/girlingreyshirt/.local/lib/python3.5/site-packages/ipykernel_launcher.py:8: RuntimeWarning: invalid value encountered in half_scalars\n",
      "  \n"
     ]
    }
   ],
   "source": [
    "images = [peppers, lena]\n",
    "names = [\"peppers\",\"lena\"]\n",
    "\n",
    "for sigmaB in [1.5]:\n",
    "    for sigma in [1]:\n",
    "        for im, name in zip(images, names):\n",
    "            ker = int(6*sigma)\n",
    "            ker += ker%2==0 and 1 or 0\n",
    "            res = convolution(im, ker, sigma, sigmaB, True);\n",
    "            save_image(res,name+\" \"+str(sigma)+\"_\"+str(sigmaB)+\".jpg\")\n",
    "            "
   ]
  },
  {
   "cell_type": "code",
   "execution_count": null,
   "metadata": {},
   "outputs": [],
   "source": []
  }
 ],
 "metadata": {
  "kernelspec": {
   "display_name": "Python 3",
   "language": "python",
   "name": "python3"
  },
  "language_info": {
   "codemirror_mode": {
    "name": "ipython",
    "version": 3
   },
   "file_extension": ".py",
   "mimetype": "text/x-python",
   "name": "python",
   "nbconvert_exporter": "python",
   "pygments_lexer": "ipython3",
   "version": "3.5.2"
  }
 },
 "nbformat": 4,
 "nbformat_minor": 4
}
