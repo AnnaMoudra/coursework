{
 "cells": [
  {
   "cell_type": "markdown",
   "metadata": {},
   "source": [
    "## 05 Image stitching\n",
    "\n",
    "simple stitching w two different intensities\n",
    "panorama stitching"
   ]
  },
  {
   "cell_type": "code",
   "execution_count": null,
   "metadata": {},
   "outputs": [],
   "source": [
    "import numpy as np\n",
    "import cv2\n",
    "import matplotlib\n",
    "from matplotlib import pyplot as plt\n",
    "import seaborn as sns\n",
    "\n",
    "def load_image(path):\n",
    "    im = cv2.imread(\"./imgs/\"+path)\n",
    "    return im\n",
    "\n",
    "def save_image(img, path):\n",
    "    cv2.imwrite(\"./results/\"+path, img)\n",
    "    \n",
    "def show_img(img):\n",
    "    print(img[:3,:1,:])\n",
    "    plt.figure(figsize=(6,10))\n",
    "    f, ax = plt.subplots(1, 4, figsize=(22,6))\n",
    "    ax[0].imshow(img[:,:,0])\n",
    "    ax[0].axis(\"off\")\n",
    "    ax[1].imshow(img[:,:,1])\n",
    "    ax[1].axis(\"off\")\n",
    "    ax[2].imshow(img[:,:,2])\n",
    "    ax[2].axis(\"off\")\n",
    "    ax[3].imshow(img)\n",
    "    ax[3].axis(\"off\")\n",
    "    plt.show()\n",
    "\n",
    "    \n",
    "def showLaplace(img):\n",
    "    normed = np.zeros((img.shape))\n",
    "    m = 0.0\n",
    "    for c in range(img.shape[2]):\n",
    "        if m < img[:,:,c].max():\n",
    "            m = img[:,:,c].max()\n",
    "    for c in range(img.shape[2]):\n",
    "        #m = img[:,:,c].max()\n",
    "        normed[:,:,c] = img[:,:,c]*(255.0/m)\n",
    "\n",
    "    print(img[:,:,0].max())\n",
    "    plt.figure(figsize=(6,10))\n",
    "    plt.imshow(normed)\n",
    "    plt.show()"
   ]
  },
  {
   "cell_type": "code",
   "execution_count": null,
   "metadata": {},
   "outputs": [],
   "source": [
    "one = load_image(\"original_mug_small.jpg\")\n",
    "two = load_image(\"no_teabag_small.jpg\")\n",
    "half1 = load_image(\"half_bag210.jpg\")\n",
    "half2 = load_image(\"half_nobag210.jpg\")"
   ]
  },
  {
   "cell_type": "code",
   "execution_count": null,
   "metadata": {},
   "outputs": [],
   "source": [
    "# Input photos\n",
    "f, ax = plt.subplots(1, 4, figsize=(22,6))\n",
    "ax[0].imshow(cv2.cvtColor(one, cv2.COLOR_BGR2RGB))\n",
    "ax[0].axis(\"off\")\n",
    "ax[1].imshow(cv2.cvtColor(two, cv2.COLOR_BGR2RGB))\n",
    "ax[1].axis(\"off\")\n",
    "ax[2].imshow(cv2.cvtColor(half1, cv2.COLOR_BGR2RGB))\n",
    "ax[2].axis(\"off\")\n",
    "ax[3].imshow(cv2.cvtColor(half2, cv2.COLOR_BGR2RGB))\n",
    "ax[3].axis(\"off\")\n",
    "plt.show()"
   ]
  },
  {
   "cell_type": "markdown",
   "metadata": {},
   "source": [
    "### Gauss-Seidel"
   ]
  },
  {
   "cell_type": "code",
   "execution_count": null,
   "metadata": {},
   "outputs": [],
   "source": [
    "#\n",
    "# I*[x,y] =  ( I[x+1,y] + I[x-1,y] + I[x,y+1], + I[x,y-1] - b[x,y]) / 4\n",
    "\n",
    "# I*....new value in old matrix\n",
    "# slow convergence\n",
    "# border control\n",
    "\n",
    "# faster on lower res -> reconstruction to original res"
   ]
  },
  {
   "cell_type": "code",
   "execution_count": null,
   "metadata": {},
   "outputs": [],
   "source": [
    "def Laplacian(im):\n",
    "    im = im/255.\n",
    "    n,m,c = im.shape\n",
    "    laplacian = np.zeros((im.shape))\n",
    "    kernel = [[0,1,0],[1,-4,1],[0,1,0]]\n",
    "    k = 3\n",
    "    half = k//2\n",
    "    for color in range(c):\n",
    "        for (x,y), pix in np.ndenumerate(im[:,:,color]):\n",
    "            new_pix = 0.0\n",
    "\n",
    "            for (k,l), val in np.ndenumerate(kernel):\n",
    "                im_pos_x = abs(x-(k-half))\n",
    "                im_pos_y = abs(y-(l-half))\n",
    "                if(im_pos_x >= n):\n",
    "                    im_pos_x += (n - im_pos_x - 1) \n",
    "                if(im_pos_y >= m):\n",
    "                    im_pos_y += (m - im_pos_y - 1) \n",
    "                new_pix += im[im_pos_x,im_pos_y,color]*val\n",
    "                \n",
    "            laplacian[x,y,color] = new_pix                   \n",
    "    return laplacian"
   ]
  },
  {
   "cell_type": "code",
   "execution_count": null,
   "metadata": {},
   "outputs": [],
   "source": [
    "lap_one = Laplacian(one)\n",
    "lap_two = Laplacian(two)"
   ]
  },
  {
   "cell_type": "code",
   "execution_count": null,
   "metadata": {},
   "outputs": [],
   "source": [
    "#laplacian mix using mask \n",
    "mask = load_image(\"mask_half4_small.jpg\")/255.\n",
    "lap_mix = np.zeros((lap_one.shape))\n",
    "for color in range(lap_one.shape[2]):\n",
    "    for (x,y), pix in np.ndenumerate(lap_one[:,:,color]):\n",
    "        lap_mix[x,y,color] = np.sqrt(1.-mask[x,y,0])*(lap_one[x,y,color]) + np.sqrt(mask[x,y,0])*(lap_two[x,y,color])"
   ]
  },
  {
   "cell_type": "code",
   "execution_count": null,
   "metadata": {},
   "outputs": [],
   "source": [
    "#laplacian mix for halved input\n",
    "lap_mix1 = np.zeros((lap_one.shape))\n",
    "lap_mix1[:,:210,:] = lap_one[:,:210,:]\n",
    "lap_mix1[:,210:,:] = lap_two[:,210:,:]\n",
    "\n",
    "lap_mix2 = np.zeros((lap_one.shape))\n",
    "lap_mix2[:,:210,:] = lap_two[:,:210,:]\n",
    "lap_mix2[:,210:,:] = lap_one[:,210:,:]"
   ]
  },
  {
   "cell_type": "code",
   "execution_count": null,
   "metadata": {},
   "outputs": [],
   "source": [
    "#using average color as input into GS\n",
    "h,w,c = one.shape\n",
    "avg_both = np.zeros((one.shape))\n",
    "for color in range(c):\n",
    "    a = one[:,:,color].mean()\n",
    "    b = two[:,:,color].mean()\n",
    "    for (x,y), pix in np.ndenumerate(one[:,:,color]):\n",
    "        avg_both[x,y,color] = int((a+b)/2.)"
   ]
  },
  {
   "cell_type": "code",
   "execution_count": null,
   "metadata": {},
   "outputs": [],
   "source": [
    "def GaussSeidel(avg_img, laplacian, k=1000, new_input = True):\n",
    "    if(new_input):\n",
    "        avg_img = avg_img/255.\n",
    "    h,w,c = laplacian.shape\n",
    "    for i in range(k):\n",
    "        for color in range(laplacian.shape[2]):\n",
    "            for (x,y), pix in np.ndenumerate(laplacian[:,:,color]):\n",
    "                \n",
    "                if(x+1 < h):\n",
    "                    a = avg_img[x+1,y,color]\n",
    "                else:\n",
    "                    a = avg_img[x,y-1,color] #y-1\n",
    "                \n",
    "                \n",
    "                if(x-1 > 0):\n",
    "                    b = avg_img[x-1,y,color]\n",
    "                else:\n",
    "                    b = avg_img[0,y-1,color] #\n",
    "                 \n",
    "                if(y+1 < w):\n",
    "                    c = avg_img[x,y+1,color]\n",
    "                else:\n",
    "                    c = avg_img[x,y,color] #y-3\n",
    "                    \n",
    "                \n",
    "                if(y-1 > 0):\n",
    "                    d = avg_img[x,y-1,color] \n",
    "                else:\n",
    "                    d = avg_img[x-1,y+1,color] #y+2\n",
    "                \n",
    "                # I*[x,y] =  ( I[x+1,y] + I[x-1,y] + I[x,y+1], + I[x,y-1] - b[x,y]) / 4\n",
    "                avg_img[x,y,color] = (a + b + c+ d - pix)/4.       \n",
    "    return avg_img"
   ]
  },
  {
   "cell_type": "markdown",
   "metadata": {},
   "source": [
    "### Multi-resolution scheme"
   ]
  },
  {
   "cell_type": "code",
   "execution_count": null,
   "metadata": {},
   "outputs": [],
   "source": [
    "# \n",
    "def laplacian_mixed(in1,in2):\n",
    "    lap_one = Laplacian(in1)\n",
    "    lap_two = Laplacian(in2)\n",
    "    lap_mix2 = np.zeros((lap_one.shape))\n",
    "    \n",
    "    line = int(in1.shape[1]*0.525)\n",
    "    print(\"Predel:\",line)\n",
    "    lap_mix2[:,:line,:] = lap_two[:,:line,:]\n",
    "    lap_mix2[:,line:,:] = lap_one[:,line:,:]\n",
    "    return lap_mix2"
   ]
  },
  {
   "cell_type": "code",
   "execution_count": null,
   "metadata": {},
   "outputs": [],
   "source": [
    "def scale_im(img, rate):\n",
    "    width = int(img.shape[1] *  rate)\n",
    "    if(width%2==1):\n",
    "        width+=1\n",
    "    height = int(img.shape[0] * rate)\n",
    "    if(height%2==1):\n",
    "        height+=1\n",
    "    return cv2.resize(img, (width, height), interpolation = cv2.INTER_AREA)"
   ]
  },
  {
   "cell_type": "code",
   "execution_count": null,
   "metadata": {},
   "outputs": [],
   "source": [
    "def faster_GS(in1,in2, input_gs,results,k):\n",
    "    # get mixed laplace\n",
    "    lp = laplacian_mixed(in1,in2)\n",
    "    if(lp.shape[1] < 100):\n",
    "        print(in1.shape)\n",
    "        results.append(GaussSeidel(input_gs, lp, k, new_input = True))\n",
    "        return results, lp\n",
    "    \n",
    "    # scale down\n",
    "    sm1 = scale_im(in1,0.5)\n",
    "    sm2 = scale_im(in2,0.5)\n",
    "    ig = scale_im(input_gs,0.5)\n",
    "    #recursion\n",
    "    results, l = faster_GS(sm1, sm2,ig,results,k)\n",
    "    product = results[-1]\n",
    "    # scale up\n",
    "    product_up = scale_im(product,2)\n",
    "    product_up = product_up[:lp.shape[0],:lp.shape[1],:]\n",
    "    print(product_up.shape, lp.shape)\n",
    "    results.append(GaussSeidel(product_up, lp, k, new_input = False))\n",
    "    return results, lp"
   ]
  },
  {
   "cell_type": "markdown",
   "metadata": {},
   "source": [
    "#### Runs"
   ]
  },
  {
   "cell_type": "code",
   "execution_count": null,
   "metadata": {},
   "outputs": [],
   "source": [
    "k=10\n",
    "results, vzor = faster_GS(two,one, half1, [], k)"
   ]
  },
  {
   "cell_type": "code",
   "execution_count": null,
   "metadata": {},
   "outputs": [],
   "source": [
    "\n",
    "\n",
    "for r in results:\n",
    "    normedI = np.zeros((r.shape))\n",
    "    a = 0.0\n",
    "    for color in range(r.shape[2]):\n",
    "        if a < r[:,:,color].max():\n",
    "            a = r[:,:,color].max()\n",
    "    for color in range(r.shape[2]):\n",
    "        for (x,y), pix in np.ndenumerate(r[:,:,color]):\n",
    "            normedI[x,y,color] = (r[x,y,color]/a)*255.0\n",
    "            \n",
    "    save_image(normedI,\"resultsr-\"+str(k)+\"iterations-5levels\"+str(r.shape[0])+\".jpg\")\n",
    "\n",
    "    \n",
    "for r in [vzor]:\n",
    "    normedI = np.zeros((r.shape))\n",
    "    a = 0.0\n",
    "    for color in range(r.shape[2]):\n",
    "        if a < r[:,:,color].max():\n",
    "            a = r[:,:,color].max()\n",
    "    for color in range(r.shape[2]):\n",
    "        for (x,y), pix in np.ndenumerate(r[:,:,color]):\n",
    "            normedI[x,y,color] = (r[x,y,color]/a)*255.0\n",
    "            \n",
    "    save_image(normedI,\"vzorr-\"+str(k)+\"iterations-5levels\"+str(r.shape[0])+\".jpg\")\n",
    "\n",
    "    "
   ]
  },
  {
   "cell_type": "code",
   "execution_count": null,
   "metadata": {},
   "outputs": [],
   "source": []
  },
  {
   "cell_type": "code",
   "execution_count": null,
   "metadata": {},
   "outputs": [],
   "source": []
  }
 ],
 "metadata": {
  "kernelspec": {
   "display_name": "Python 3",
   "language": "python",
   "name": "python3"
  },
  "language_info": {
   "codemirror_mode": {
    "name": "ipython",
    "version": 3
   },
   "file_extension": ".py",
   "mimetype": "text/x-python",
   "name": "python",
   "nbconvert_exporter": "python",
   "pygments_lexer": "ipython3",
   "version": "3.5.2"
  }
 },
 "nbformat": 4,
 "nbformat_minor": 4
}
