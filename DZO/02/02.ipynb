{
 "cells": [
  {
   "cell_type": "markdown",
   "metadata": {},
   "source": [
    "## 02 Fourierova transformace"
   ]
  },
  {
   "cell_type": "code",
   "execution_count": 1,
   "metadata": {},
   "outputs": [],
   "source": [
    "import numpy as np\n",
    "\n",
    "import matplotlib\n",
    "from matplotlib import pyplot as plt\n",
    "import scipy.misc\n",
    "import cv2\n",
    "import math\n",
    "from numpy import zeros, newaxis\n",
    "from cmath import exp, pi"
   ]
  },
  {
   "cell_type": "code",
   "execution_count": 2,
   "metadata": {},
   "outputs": [],
   "source": [
    "def load_image(path):\n",
    "    im = cv2.imread(\"./imgs/\"+path)\n",
    "    return im\n",
    "\n",
    "def save_image(img, path):\n",
    "    cv2.imwrite(\"./results/\"+path, img)"
   ]
  },
  {
   "cell_type": "code",
   "execution_count": 3,
   "metadata": {},
   "outputs": [],
   "source": [
    "lena = load_image(\"lena.jpg\")\n",
    "marlon = load_image(\"marlon.jpg\")\n",
    "mesic = load_image(\"mesic.jpg\")\n",
    "hvezda = load_image(\"hvezda.jpg\")\n",
    "hvezda50 = load_image(\"hvezda50.jpg\")\n",
    "hvezda64 = load_image(\"hvezda64.jpg\")\n",
    "line = load_image(\"line.jpg\")"
   ]
  },
  {
   "cell_type": "code",
   "execution_count": 4,
   "metadata": {},
   "outputs": [],
   "source": [
    "# apmplitude spectrum scale from complex FT output\n",
    "def log_scale(img):\n",
    "    sc = img.copy()\n",
    "\n",
    "    for i in range(img.shape[0]):\n",
    "        for j in range(img.shape[1]):\n",
    "            pixel = sc[i,j] \n",
    "            sc[i,j] = np.log(np.sqrt(pow(pixel.real,2) + pow(pixel.imag,2)))\n",
    "            \n",
    "    sc_max = np.max(sc.real)\n",
    "    sc_min = np.min(sc.real)\n",
    "    for i in range(img.shape[0]):\n",
    "        for j in range(img.shape[1]):\n",
    "            #values in interval 0,1 \n",
    "            sc[i,j] = (sc[i,j]-sc_min)/(sc_max-sc_min) \n",
    "            sc[i,j] = int(np.clip(sc[i,j],0.,1.)*255)\n",
    "    #print(np.max(sc.real), np.min(sc.real))\n",
    "\n",
    "    return sc\n",
    "\n",
    "# shift for centered view\n",
    "# low frequences are in the center instead of the corners\n",
    "def fft_shift(fft):\n",
    "    half_h = int(fft.shape[0]/2)\n",
    "    half_w = int(fft.shape[1]/2)\n",
    "    \n",
    "    fft_p = fft.copy()\n",
    "    #print(half_h, half_w)\n",
    "    fft_p[:half_h, :half_w,:] = fft[half_h:, half_w:,:] #D\n",
    "    fft_p[:half_h, half_w:,:] = fft[half_h:, :half_w,:] #B\n",
    "    \n",
    "    fft_p[half_h:, :half_w,:] = fft[:half_h, half_w:,:] #C\n",
    "    fft_p[half_h:, half_w:,:] = fft[:half_h, :half_w,:] #A\n",
    "    return fft_p"
   ]
  },
  {
   "cell_type": "markdown",
   "metadata": {},
   "source": [
    "### Discrete Fourier Transform "
   ]
  },
  {
   "cell_type": "code",
   "execution_count": 5,
   "metadata": {},
   "outputs": [],
   "source": [
    "def dft(img):\n",
    "    img =  img/255.0 #normed\n",
    "\n",
    "    fft = img.copy()\n",
    "    N, M, c = img.shape\n",
    "    print(\"Velikost:\",N, M)\n",
    "    channel = img[:,:,0] + 1j* np.zeros((N,M))\n",
    "\n",
    "    for u in range(int(N)):\n",
    "        for v in range(int(M)):\n",
    "            sum_A = complex(0,0)\n",
    "            for x in range(int(N)):\n",
    "                for y in range(int(M)):\n",
    "                    a = ((u*x)/float(N) + (v*y)/float(M))\n",
    "                    sum_A += complex(img[x,y,0],0) * exp(-2j * pi * a)\n",
    "                          \n",
    "            channel[u,v] = complex(1/N*M,0) * sum_A     \n",
    "\n",
    "    \n",
    "    channel = log_scale(channel)\n",
    "    for chan in range(c):\n",
    "        fft[:,:,chan] = channel\n",
    "    \n",
    "    fft_p = fft_shift(fft)\n",
    "    \n",
    "    return fft,fft_p, channel"
   ]
  },
  {
   "cell_type": "code",
   "execution_count": null,
   "metadata": {},
   "outputs": [],
   "source": []
  },
  {
   "cell_type": "markdown",
   "metadata": {},
   "source": [
    "### Fast Fourier Transform"
   ]
  },
  {
   "cell_type": "code",
   "execution_count": 79,
   "metadata": {},
   "outputs": [],
   "source": [
    "def fft1(x):\n",
    "    N = int(len(x))    \n",
    "    #recursion\n",
    "    if N == 1:\n",
    "        #print(x.shape)\n",
    "        return x\n",
    "    even = fft1(x[::2])\n",
    "    odd  = fft1(x[1::2])\n",
    "    \n",
    "    result = [0]*N\n",
    "    \n",
    "    half = int(N/2)\n",
    "    for k in range(half):\n",
    "        result[k] = even[k] + odd[k] * exp((-2*pi*1j*k)/N)\n",
    "        result[k+half] = even[k] - odd[k] * exp((-2*pi*1j*k)/N)\n",
    "        \n",
    "    #print(len(result))\n",
    "    return result\n",
    "\n",
    "\n",
    "def fft(img, log_sc):\n",
    "    img =  img/255.0 #normed\n",
    "    N, M, c = img.shape\n",
    "\n",
    "    #print(\"Velikost:\",N, M)\n",
    "    channel = img[:,:,0]\n",
    "    n = 2 ** int(math.ceil(math.log(N, 2))) # padding na velikost 2**a\n",
    "    m = 2 ** int(math.ceil(math.log(M, 2)))\n",
    "    \n",
    "    #print(\"Velikost:\",n, m)\n",
    "    F = np.zeros((n,m))\n",
    "    fft = np.zeros((n,m,c))\n",
    "    test = np.zeros((n,m,c))\n",
    "    F[:N,:M] = channel \n",
    "    \n",
    "    #print(F.shape)\n",
    "    first_F = np.transpose(fft1(F))\n",
    "    #print(len(fft1(F)),first_F.shape,\"Second:\")\n",
    "    second_F = np.transpose(fft1(first_F))\n",
    "    #print(second_F.shape)\n",
    "    second_F = log_scale(second_F)\n",
    "\n",
    "\n",
    "    if(len(img.shape) > 2):\n",
    "        for chan in range(c):\n",
    "            #test[:,:,chan] = F*255\n",
    "            fft[:,:,chan] = second_F\n",
    "        \n",
    "        \n",
    "    fft_p = fft_shift(fft)\n",
    "    \n",
    "    return fft,fft_p, channel"
   ]
  },
  {
   "cell_type": "code",
   "execution_count": 80,
   "metadata": {},
   "outputs": [
    {
     "name": "stderr",
     "output_type": "stream",
     "text": [
      "/home/girlingreyshirt/.local/lib/python3.5/site-packages/ipykernel_launcher.py:16: ComplexWarning: Casting complex values to real discards the imaginary part\n",
      "  app.launch_new_instance()\n",
      "/home/girlingreyshirt/.local/lib/python3.5/site-packages/ipykernel_launcher.py:47: ComplexWarning: Casting complex values to real discards the imaginary part\n"
     ]
    }
   ],
   "source": [
    "inputs = [marlon, hvezda, mesic, lena, line]\n",
    "outputs = [\"marlon\", \"hvezda\", \"mesic\", \"lena\", \"line\"]\n",
    "for i,o in zip(inputs[1:2], outputs[1:2]):\n",
    "    image_fft,image_fftshift, M = fft(i,1.0)\n",
    "    save_image(image_fftshift, o+\"_fft2.png\")\n",
    "    #save_image(M, o+\"_test.png\")"
   ]
  },
  {
   "cell_type": "code",
   "execution_count": 81,
   "metadata": {},
   "outputs": [
    {
     "data": {
      "text/html": [
       "<div>\n",
       "<img src=\"./imgs/hvezda.jpg\" width=\"200\" /> \n",
       "<img src=\"./results/hvezda_test.png\" width=\"200\" />\n",
       "<img src=\"./results/hvezda_fft2.png\" width=\"200\" />\n",
       "<img src=\"./results/hvezda_dft.png\" width=\"200\" />\n",
       "</div>\n"
      ],
      "text/plain": [
       "<IPython.core.display.HTML object>"
      ]
     },
     "metadata": {},
     "output_type": "display_data"
    }
   ],
   "source": [
    "%%html\n",
    "<div>\n",
    "<img src=\"./imgs/hvezda.jpg\" width=\"200\" /> \n",
    "<img src=\"./results/hvezda_test.png\" width=\"200\" />\n",
    "<img src=\"./results/hvezda_fft2.png\" width=\"200\" />\n",
    "<img src=\"./results/hvezda_dft.png\" width=\"200\" />\n",
    "</div>"
   ]
  },
  {
   "cell_type": "code",
   "execution_count": null,
   "metadata": {},
   "outputs": [],
   "source": []
  },
  {
   "cell_type": "markdown",
   "metadata": {},
   "source": [
    "### Runs:"
   ]
  },
  {
   "cell_type": "code",
   "execution_count": 7,
   "metadata": {},
   "outputs": [],
   "source": [
    "inputs = [marlon, hvezda, mesic, lena, line]\n",
    "outputs = [\"marlon\", \"hvezda\", \"mesic\", \"lena\", \"line\"]"
   ]
  },
  {
   "cell_type": "code",
   "execution_count": 8,
   "metadata": {},
   "outputs": [
    {
     "name": "stdout",
     "output_type": "stream",
     "text": [
      "Velikost: 100 100\n"
     ]
    },
    {
     "name": "stderr",
     "output_type": "stream",
     "text": [
      "/home/girlingreyshirt/.local/lib/python3.5/site-packages/ipykernel_launcher.py:16: ComplexWarning: Casting complex values to real discards the imaginary part\n",
      "  app.launch_new_instance()\n",
      "/home/girlingreyshirt/.local/lib/python3.5/site-packages/ipykernel_launcher.py:22: ComplexWarning: Casting complex values to real discards the imaginary part\n"
     ]
    }
   ],
   "source": [
    "## DFT tested nly on very small images (100x100 px)\n",
    "for i,o in zip(inputs[1:2], outputs[1:2]):\n",
    "    image_fft,image_fftshift, M = dft(i)\n",
    "    save_image(image_fftshift, o+\"_dft.png\")"
   ]
  },
  {
   "cell_type": "code",
   "execution_count": 9,
   "metadata": {},
   "outputs": [
    {
     "data": {
      "text/html": [
       "<div>\n",
       "<img src=\"./imgs/hvezda.jpg\" width=\"200\" /> \n",
       "<img src=\"./results/hvezda_dft.png\" width=\"200\" />\n",
       "</div>\n"
      ],
      "text/plain": [
       "<IPython.core.display.HTML object>"
      ]
     },
     "metadata": {},
     "output_type": "display_data"
    }
   ],
   "source": [
    "%%html\n",
    "<div>\n",
    "<img src=\"./imgs/hvezda.jpg\" width=\"200\" /> \n",
    "<img src=\"./results/hvezda_dft.png\" width=\"200\" />\n",
    "</div>"
   ]
  },
  {
   "cell_type": "code",
   "execution_count": 10,
   "metadata": {},
   "outputs": [
    {
     "name": "stderr",
     "output_type": "stream",
     "text": [
      "/home/girlingreyshirt/.local/lib/python3.5/site-packages/ipykernel_launcher.py:16: ComplexWarning: Casting complex values to real discards the imaginary part\n",
      "  app.launch_new_instance()\n",
      "/home/girlingreyshirt/.local/lib/python3.5/site-packages/ipykernel_launcher.py:37: ComplexWarning: Casting complex values to real discards the imaginary part\n"
     ]
    }
   ],
   "source": [
    "for i,o in zip(inputs[:], outputs[:]):\n",
    "    image_fft,image_fftshift, M = fft(i,1.0)\n",
    "    save_image(image_fftshift, o+\"_fft.png\")"
   ]
  },
  {
   "cell_type": "code",
   "execution_count": 11,
   "metadata": {},
   "outputs": [
    {
     "data": {
      "text/html": [
       "<div>\n",
       "<img src=\"./imgs/lena.jpg\" width=\"200\" /> \n",
       "<img src=\"./results/lena_fft.png\" width=\"200\" />\n",
       "</div>\n"
      ],
      "text/plain": [
       "<IPython.core.display.HTML object>"
      ]
     },
     "metadata": {},
     "output_type": "display_data"
    }
   ],
   "source": [
    "%%html\n",
    "<div>\n",
    "<img src=\"./imgs/lena.jpg\" width=\"200\" /> \n",
    "<img src=\"./results/lena_fft.png\" width=\"200\" />\n",
    "</div>"
   ]
  },
  {
   "cell_type": "code",
   "execution_count": 12,
   "metadata": {},
   "outputs": [
    {
     "data": {
      "text/html": [
       "<div>\n",
       "<img src=\"./imgs/hvezda.jpg\" width=\"200\" /> \n",
       "<img src=\"./results/hvezda_fft.png\" width=\"200\" />\n",
       "</div>\n"
      ],
      "text/plain": [
       "<IPython.core.display.HTML object>"
      ]
     },
     "metadata": {},
     "output_type": "display_data"
    }
   ],
   "source": [
    "%%html\n",
    "<div>\n",
    "<img src=\"./imgs/hvezda.jpg\" width=\"200\" /> \n",
    "<img src=\"./results/hvezda_fft.png\" width=\"200\" />\n",
    "</div>"
   ]
  },
  {
   "cell_type": "code",
   "execution_count": 13,
   "metadata": {},
   "outputs": [
    {
     "data": {
      "text/html": [
       "<div>\n",
       "<img src=\"./imgs/mesic.jpg\" width=\"200\" /> \n",
       "<img src=\"./results/mesic_fft.png\" width=\"200\" />\n",
       "</div>\n"
      ],
      "text/plain": [
       "<IPython.core.display.HTML object>"
      ]
     },
     "metadata": {},
     "output_type": "display_data"
    }
   ],
   "source": [
    "%%html\n",
    "<div>\n",
    "<img src=\"./imgs/mesic.jpg\" width=\"200\" /> \n",
    "<img src=\"./results/mesic_fft.png\" width=\"200\" />\n",
    "</div>"
   ]
  },
  {
   "cell_type": "code",
   "execution_count": 14,
   "metadata": {},
   "outputs": [
    {
     "data": {
      "text/html": [
       "<div>\n",
       "<img src=\"./imgs/marlon.jpg\" width=\"200\" /> \n",
       "<img src=\"./results/marlon_fft.png\" width=\"200\" />\n",
       "</div>\n"
      ],
      "text/plain": [
       "<IPython.core.display.HTML object>"
      ]
     },
     "metadata": {},
     "output_type": "display_data"
    }
   ],
   "source": [
    "%%html\n",
    "<div>\n",
    "<img src=\"./imgs/marlon.jpg\" width=\"200\" /> \n",
    "<img src=\"./results/marlon_fft.png\" width=\"200\" />\n",
    "</div>"
   ]
  },
  {
   "cell_type": "code",
   "execution_count": 15,
   "metadata": {},
   "outputs": [
    {
     "data": {
      "text/html": [
       "<div>\n",
       "<img src=\"./imgs/line.jpg\" width=\"200\" /> \n",
       "<img src=\"./results/line_fft.png\" width=\"200\" />\n",
       "</div>\n"
      ],
      "text/plain": [
       "<IPython.core.display.HTML object>"
      ]
     },
     "metadata": {},
     "output_type": "display_data"
    }
   ],
   "source": [
    "%%html\n",
    "<div>\n",
    "<img src=\"./imgs/line.jpg\" width=\"200\" /> \n",
    "<img src=\"./results/line_fft.png\" width=\"200\" />\n",
    "</div>"
   ]
  },
  {
   "cell_type": "markdown",
   "metadata": {},
   "source": [
    "#### Testing my output against np.fft results"
   ]
  },
  {
   "cell_type": "code",
   "execution_count": 20,
   "metadata": {},
   "outputs": [],
   "source": [
    "def a_fft(img, radius = 200):\n",
    "    print(\"img shape\", img.shape)\n",
    "    \n",
    "    a, b = img.shape\n",
    "    if(a%2 != 0):\n",
    "        img = img[:-1,:]\n",
    "    if(b%2 != 0):\n",
    "        img = img[:,1:]\n",
    "    f = np.fft.fft2(img)\n",
    "    fshift = np.fft.fftshift(f)\n",
    "    # calculate amplitude spectrum\n",
    "    mag_spec = 20*np.log(np.abs(fshift))\n",
    "    print(\"ft shape\", f.shape)\n",
    "    print(\"center point \", (f.shape[0]//2,f.shape[1]//2))\n",
    "    \n",
    "    r = f.shape[0]//2        # number of rows/2\n",
    "    c = f.shape[1]//2        # number of columns/2   \n",
    "    p = 3                         \n",
    "    n = 1                   # to suppress all except for the DC component       \n",
    "    fshift2 = np.copy(fshift)\n",
    "    \n",
    "    # suppress upper part\n",
    "    #fshift2[0:r-n , c-p:c+p] = 0.001\n",
    "    # suppress lower part\n",
    "    #fshift2[r+n:r+r, c-p:c+p] = 0.001\n",
    "    # suppress horizontal\n",
    "    #fshift2[r-n:r+n, :500] = 0.001\n",
    "    #fshift2[r-n:r+n, -500:] = 0.001\n",
    "    # suppress vertical\n",
    "    #fshift2[:250, c-n:c+n] = 0.001\n",
    "    #fshift2[-250:, c-n:c+n] = 0.001\n",
    "    \n",
    "    for x in range(0,2*r):\n",
    "        for y in range(0,2*c):\n",
    "            distance_x = np.abs(r-x)\n",
    "            distance_y = np.abs(c-y)\n",
    "            hypotenuse = np.sqrt(distance_x**2 + distance_y**2)\n",
    "            if(hypotenuse > radius):\n",
    "                fshift2[x,y] = 0.001\n",
    "            \n",
    "        \n",
    "\n",
    "    # calculate new amplitude spectrum\n",
    "    mag_spec2 = 20*np.log(np.abs(fshift2))\n",
    "    inv_fshift = np.fft.ifftshift(fshift2)\n",
    "    # reconstruct image\n",
    "    img_recon = np.real(np.fft.ifft2(inv_fshift))\n",
    "    \n",
    "\n",
    "    plt.figure(figsize=(15,10))\n",
    "    plt.subplot(131),plt.imshow(img, cmap = 'gray')\n",
    "    plt.title('Input Image'), plt.xticks([]), plt.yticks([])\n",
    "    plt.subplot(132),plt.imshow(mag_spec, cmap = 'gray')\n",
    "    plt.title('Magnitude Spectrum'), plt.xticks([]), plt.yticks([])\n",
    "    plt.subplot(133),plt.imshow(mag_spec2, cmap = 'gray')\n",
    "    plt.title('Magnitude Spectrum after suppression'), plt.xticks([]), plt.yticks([])\n",
    "    plt.show()\n",
    "\n",
    "    plt.figure(figsize=(15,10))\n",
    "    plt.subplot(121),plt.imshow(img, cmap = 'gray')\n",
    "    plt.title('Input Image'), plt.xticks([]), plt.yticks([])\n",
    "    plt.subplot(122),plt.imshow(img_recon, cmap = 'gray')\n",
    "    plt.title('Output Image'), plt.xticks([]), plt.yticks([])\n",
    "    plt.show()\n",
    "\n",
    "    return img_recon\n",
    "    "
   ]
  },
  {
   "cell_type": "code",
   "execution_count": 21,
   "metadata": {},
   "outputs": [
    {
     "name": "stdout",
     "output_type": "stream",
     "text": [
      "img shape (128, 128)\n",
      "ft shape (128, 128)\n",
      "center point  (64, 64)\n"
     ]
    },
    {
     "data": {
      "image/png": "[encoded data removed]",
      "text/plain": [
       "<Figure size 1080x720 with 3 Axes>"
      ]
     },
     "metadata": {},
     "output_type": "display_data"
    },
    {
     "data": {
      "image/png": "[encoded data removed]",
      "text/plain": [
       "<Figure size 1080x720 with 2 Axes>"
      ]
     },
     "metadata": {},
     "output_type": "display_data"
    }
   ],
   "source": [
    "im = a_fft(line[:,:,0], 40)"
   ]
  },
  {
   "cell_type": "code",
   "execution_count": null,
   "metadata": {},
   "outputs": [],
   "source": []
  }
 ],
 "metadata": {
  "kernelspec": {
   "display_name": "Python 3",
   "language": "python",
   "name": "python3"
  },
  "language_info": {
   "codemirror_mode": {
    "name": "ipython",
    "version": 3
   },
   "file_extension": ".py",
   "mimetype": "text/x-python",
   "name": "python",
   "nbconvert_exporter": "python",
   "pygments_lexer": "ipython3",
   "version": "3.5.2"
  }
 },
 "nbformat": 4,
 "nbformat_minor": 4
}
