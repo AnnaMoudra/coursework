{
 "cells": [
  {
   "cell_type": "code",
   "execution_count": null,
   "metadata": {},
   "outputs": [],
   "source": [
    "# This script takes in an [x] FPS video and outputs 2*[x] FPS video by applying results\n",
    "#  of frame interpolation using FI-CNN.\n",
    "import sys\n",
    "import os\n",
    "\n",
    "import warnings\n",
    "warnings.filterwarnings(\"ignore\")\n",
    "\n",
    "BACKEND = \"tensorflow\"\n",
    "os.environ['KERAS_BACKEND'] = BACKEND\n",
    "os.environ['THEANO_FLAGS'] = \"device=gpu0, lib.cnmem=0.85, optimizer=fast_run\"\n",
    "\n",
    "import time\n",
    "import random\n",
    "\n",
    "from keras.layers import Layer, Input, Dense,Convolution2D, MaxPooling2D, UpSampling2D, merge, BatchNormalization, Deconvolution2D, Activation\n",
    "from keras.layers.advanced_activations import PReLU\n",
    "from keras.models import Sequential, Model, clone_model"
   ]
  },
  {
   "cell_type": "code",
   "execution_count": null,
   "metadata": {},
   "outputs": [],
   "source": [
    "def block_oneb(inp, cd, chanel='channels_first'):\n",
    "    a = Convolution2D(cd, (3, 3), data_format=chanel, activation='relu', padding='same')(inp)\n",
    "    #print(\"a\",a.shape)\n",
    "    b = BatchNormalization()(a)\n",
    "    c = Convolution2D(cd, (3, 3), data_format=chanel, activation='relu', padding='same')(b)\n",
    "    d = BatchNormalization()(c)\n",
    "    #print(\"d\", d.shape)\n",
    "    e = MaxPooling2D(pool_size=(2, 2), data_format=chanel)(d)\n",
    "    #print(\"e\",e.shape)\n",
    "    return d,e\n",
    "\n",
    "def block_twob(ups_input,con_input,cd, pool=True, chanel='channels_first'):\n",
    "    #print(\"before\", ups_input.shape)\n",
    "    ups = UpSampling2D(size=(2, 2), data_format=chanel,)(ups_input)\n",
    "    #print(\"UPsampled\", ups.shape)\n",
    "    #print(\"to concat with:\", con_input.shape)\n",
    "    a = concatenate([ups, con_input], axis=-3)\n",
    "    #print(\"after concat\",a.shape)\n",
    "    b = Convolution2D(cd, (3, 3), data_format=chanel, activation='relu', padding='same')(a)\n",
    "    c = BatchNormalization()(b)\n",
    "    d = Convolution2D(cd, (3, 3), data_format=chanel, activation='relu', padding='same')(c)\n",
    "    e = BatchNormalization()(d)\n",
    "    return e\n",
    "    "
   ]
  },
  {
   "cell_type": "code",
   "execution_count": null,
   "metadata": {},
   "outputs": [],
   "source": [
    "#from FI_unet import get_unet_2\n",
    "from keras.layers.merge import concatenate\n",
    "def get_unet_2(a):\n",
    "    #1.\n",
    "    inputs = Input(a)\n",
    "    #print(a,inputs.shape)\n",
    "    bn1,bl1 = block_oneb(inputs,32)\n",
    "    #print(\"\\tbl1\",bl1.shape)\n",
    "    #2\n",
    "    bn2,bl2 = block_oneb(bl1,64)\n",
    "    #print(\"\\tbl2\",bl2.shape)\n",
    "    #3\n",
    "    bn3,bl3 = block_oneb(bl2, 128)\n",
    "    #print(\"\\tbl3\",bl3.shape)\n",
    "    #4\n",
    "    bn4,bl4 = block_oneb(bl3, 256)\n",
    "    #print(\"\\tbl4\",bl4.shape)\n",
    "    #print(\"\\tbn4\",bn4.shape)\n",
    "    \n",
    "    #5\n",
    "    bn5,pool5 = block_oneb(bl4,512)\n",
    "    #print(\"\\tbl5\",pool5.shape)\n",
    "    \n",
    "    #5_2\n",
    "    bn5_2, pool5_2 = block_oneb(pool5,512)\n",
    "    #print(\"bn5 -  no pool\", bn5.shape)\n",
    "    #print(\"bn5_2 - pool+conv\", bn5_2.shape) # too big\n",
    "    \n",
    "    #6_2\n",
    "    bn6_2 = block_twob(bn5_2, bn5, 512)\n",
    "    #print(\"result\", bn6_2.shape)\n",
    "\n",
    "    #6\n",
    "    bn6 = block_twob(bn6_2,bn4, 256)\n",
    "\n",
    "    #7\n",
    "    bn7 = block_twob(bn6,bn3, 128)\n",
    "\n",
    "    #8\n",
    "    bn8 = block_twob(bn7,bn2, 64)\n",
    "\n",
    "    #9\n",
    "    bn9 = block_twob(bn8,bn1, 32)\n",
    "\n",
    "    #10 input_shape[0]/2\n",
    "    conv10 = Convolution2D(3, (1, 1),data_format='channels_first', activation='sigmoid')(bn9)\n",
    "\n",
    "    #print(conv10.shape)\n",
    "    model = Model(input=inputs, outputs=conv10)\n",
    "    #print(model.summary())\n",
    "\n",
    "    return model"
   ]
  },
  {
   "cell_type": "code",
   "execution_count": null,
   "metadata": {},
   "outputs": [],
   "source": [
    "shps = (6,128, 384)\n",
    "model = get_unet_2(shps)"
   ]
  }
 ],
 "metadata": {
  "kernelspec": {
   "display_name": "Python 3.9.13 64-bit (windows store)",
   "language": "python",
   "name": "python3"
  },
  "language_info": {
   "codemirror_mode": {
    "name": "ipython",
    "version": 3
   },
   "file_extension": ".py",
   "mimetype": "text/x-python",
   "name": "python",
   "nbconvert_exporter": "python",
   "pygments_lexer": "ipython3",
   "version": "3.9.13"
  },
  "vscode": {
   "interpreter": {
    "hash": "9da297d614bb2667dfb21fadcf07f5f64679004c9ae9ad9a1b5a03e6f7f19cbc"
   }
  }
 },
 "nbformat": 4,
 "nbformat_minor": 4
}
