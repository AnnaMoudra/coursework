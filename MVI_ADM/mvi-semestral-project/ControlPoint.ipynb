{
 "cells": [
  {
   "cell_type": "markdown",
   "metadata": {},
   "source": [
    "## Video Frame Rate Upscaling Using Neural Networks\n",
    "#### Anna Moudrá, MI-MVI 2019\n",
    "\n"
   ]
  },
  {
   "cell_type": "code",
   "execution_count": null,
   "metadata": {
    "collapsed": true,
    "jupyter": {
     "outputs_hidden": true
    }
   },
   "outputs": [],
   "source": [
    "import os\n",
    "import warnings\n",
    "warnings.filterwarnings('ignore')\n",
    "import import_ipynb\n",
    "import VideoManip as vm"
   ]
  },
  {
   "cell_type": "markdown",
   "metadata": {},
   "source": [
    "Vezměte krátké 5-10 sekundové video a vytvořte generátor pro interpolování video rámců, abyste získali vysokofrekvenční zpomalené video. Používejte obě architektury: GAN a U-Net. Porovnejte výsledky.\n",
    "   \n",
    "Literatura:\n",
    "- https://www.citi.sinica.edu.tw/papers/yylin/6497-F.pdf\n",
    "- http://tedxiao.me/pdf/CS294_Report.pdf (CycleGAN)\n",
    "- https://github.com/neil454/deep-motion (U-Net)"
   ]
  },
  {
   "cell_type": "code",
   "execution_count": null,
   "metadata": {},
   "outputs": [],
   "source": [
    "vid_dir = \"./in_vid/\"\n",
    "out_dir = \"./out_vid/\"\n",
    "\n",
    "vids = [\"swans\",\"ski\",\"surf\", \"car\", \"sea\", \"smoke\", \"deer\", \"street\", \"wave\", \"balls\"]\n",
    "vid_fn = vids[6]+\"_384_128_10fps.mp4\"\n",
    "\n",
    "#choose which model to use\n",
    "methods = [\"u_net\",\"gan_cfg\"]\n",
    "k = 1"
   ]
  },
  {
   "cell_type": "code",
   "execution_count": null,
   "metadata": {},
   "outputs": [],
   "source": [
    "#load subsampled input video\n",
    "vid_arr, fps = vm.load_vid(os.path.join(vid_dir, vid_fn));\n",
    "print(\"fps\",fps)"
   ]
  },
  {
   "cell_type": "code",
   "execution_count": null,
   "metadata": {
    "collapsed": true,
    "jupyter": {
     "outputs_hidden": true
    }
   },
   "outputs": [],
   "source": [
    "%%capture\n",
    "\n",
    "#run model\n",
    "double_vid_arr = vm.double_vid_fps(vid_arr,methods[k])"
   ]
  },
  {
   "cell_type": "code",
   "execution_count": null,
   "metadata": {},
   "outputs": [],
   "source": [
    "#save input video,output in subsampled frame rate (slowed down) and in doubled frame rate \n",
    "vm.save_vid(vid_arr, out_dir + vid_fn.split('.')[0] + \"_resize.avi\", fps=fps)\n",
    "vm.save_vid(double_vid_arr, out_dir + vid_fn.split('.')[0] + \"_double_\"+str(int(2*fps))+\"_\"+methods[k]+\".avi\", fps=fps*2)\n",
    "vm.save_vid(double_vid_arr, out_dir + vid_fn.split('.')[0] + \"_double_\"+str(int(fps))+\"_\"+methods[k]+\".avi\", fps=fps)"
   ]
  },
  {
   "cell_type": "code",
   "execution_count": null,
   "metadata": {},
   "outputs": [],
   "source": [
    "quad_vid_arr = vm.double_vid_fps(double_vid_arr)\n",
    "vm.save_vid(quad_vid_arr, out_dir + vid_fn.split('.')[0] + \"_quad_\"+str(int(4*fps))+\".avi\", fps=fps*4)\n",
    "vm.save_vid(quad_vid_arr, out_dir + vid_fn.split('.')[0] + \"_quad_\"+str(int(2*fps))+\".avi\", fps=fps*2)"
   ]
  },
  {
   "cell_type": "code",
   "execution_count": null,
   "metadata": {
    "collapsed": true,
    "jupyter": {
     "outputs_hidden": true
    }
   },
   "outputs": [],
   "source": [
    "vids = [\"swans\",\"ski\",\"surf\", \"car\", \"sea\", \"smoke\", \"deer\", \"street\", \"wave\", \"balls\"]\n",
    "\n",
    "l = 3\n",
    "b = vids[l]+\"_384_128_10fps_\"\n",
    "unet = b +\"double_20_u_net.avi\"\n",
    "gans = b +\"double_20_gan_cfg.avi\"\n",
    "res = vids[l]+\"_384_128_10fps.mp4\"\n",
    "org = vids[l]+\"_384_128_23fps.mp4\"\n",
    "\n",
    "un, fps_un = vm.load_vid(os.path.join(out_dir, unet))\n",
    "ga, fps_ga = vm.load_vid(os.path.join(out_dir, gans))\n",
    "ori,fps_or = vm.load_vid(os.path.join(vid_dir, org)) \n",
    "half,fps_h = vm.load_vid(os.path.join(vid_dir, res)) \n",
    "\n",
    "vm.combine_vid(ori, half, un, ga, int(fps_or), int(fps_ga),int(fps_h),\"01\"+vids[l]+\"_comb\", out_dir)"
   ]
  },
  {
   "cell_type": "code",
   "execution_count": null,
   "metadata": {
    "collapsed": true,
    "jupyter": {
     "outputs_hidden": true
    }
   },
   "outputs": [],
   "source": [
    "a_01 = [\"01balls_comb.mp4\",\"01car_comb.mp4\", \"01deer_comb.mp4\",\"01sea_comb.mp4\",\"01ski_comb.mp4\",\"01smoke_comb.mp4\",\"01street_comb.mp4\",\"01surf_comb.mp4\",\"01wave_comb.mp4\",\"01swans_comb.mp4\",]\n",
    "vm.combinevid(a_01,30,\"01all\", out_dir)"
   ]
  },
  {
   "cell_type": "code",
   "execution_count": null,
   "metadata": {},
   "outputs": [],
   "source": [
    "#a_02 = [\"02balls_comb.mp4\",\"02car_comb.mp4\", \"02deer_comb.mp4\",\"02sea_comb.mp4\",\"02ski_comb.mp4\",\"02smoke_comb.mp4\",\"02street_comb.mp4\",\"02surf_comb.mp4\",\"02wave_comb.mp4\",\"02swans_comb.mp4\",]\n",
    "#vm.combinevid(a_02,30,\"02all\", out_dir)"
   ]
  }
 ],
 "metadata": {
  "kernelspec": {
   "display_name": "Python 3.9.13 64-bit (windows store)",
   "language": "python",
   "name": "python3"
  },
  "language_info": {
   "codemirror_mode": {
    "name": "ipython",
    "version": 3
   },
   "file_extension": ".py",
   "mimetype": "text/x-python",
   "name": "python",
   "nbconvert_exporter": "python",
   "pygments_lexer": "ipython3",
   "version": "3.9.13"
  },
  "vscode": {
   "interpreter": {
    "hash": "9da297d614bb2667dfb21fadcf07f5f64679004c9ae9ad9a1b5a03e6f7f19cbc"
   }
  }
 },
 "nbformat": 4,
 "nbformat_minor": 4
}
