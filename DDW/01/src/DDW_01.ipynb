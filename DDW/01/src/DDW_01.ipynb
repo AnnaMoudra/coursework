{
 "cells": [
  {
   "cell_type": "markdown",
   "metadata": {},
   "source": [
    "### DDW - Data Acquisition - Web Crawler/Scraper\n",
    "\n",
    "Rozhodla jsem se získávat data nahraných plachtařských letů z webu CPSka.cz (https://www.cpska.cz/public/index3.php)\n",
    "Jelikož cílem je posléze získat informace hlavně o četnosti letů v daných dnech na různých místech (pro odhad kvality letovch podmínek), nejdůležitějšími údaji jsou datum, délka a rychlost letu (příp. typ) a souřadnice startu a cíle. Mimo tyto jsem stahovala i další zajímavé údaje, které by se časem mohly hodit.\n",
    "\n",
    "- typ letadla\n",
    "- imatrikulaci (unikátni číslo letadla)\n",
    "- jméno pilota\n",
    "- domovský klub\n",
    "- datum letu\n",
    "- délka letu\n",
    "- rychlost\n",
    "- typ letu\n",
    "- tvar letu\n",
    "- souřadnice a kódy počátečních a konečných letišť\n",
    "\n",
    "Web CPS má jednoduchou nicméně nejednotnou strukturu, na problémy s timeoutem nebo odepřením přístupu jsem nenarazila.\n",
    "Zarazilo mě až kódování windows-1250, které bylo nutné explicitně nastavit.\n",
    "\n",
    "Stáhla jsem celkem informace z 1010 letů, které jsem pro kontrolu uložila ve formátu JSON, nicméně pro další operace se mi hodí více flat file, pandas data frame nebo csv soubor, tudíž jsem JSON strukturu zploštila do jednovrstvého listu s údaji o letech.\n",
    "\n",
    "Data jsem stahovala a ukládala v batchi po 100 letech tak, abych v případě výpadku nebo chyby všechno neztratila, nakonec jsem je spojila do jednoho velkého csv souboru.\n",
    "\n",
    "Vylepšit by se určitě dalo využívání linků nalezených přímo na stránkách - takto využívám link vedoucí na stránku datumu posledního přidaného letu. Na varietách jsem si zbytek url (až na id) dopsala ručně.\n"
   ]
  },
  {
   "cell_type": "code",
   "execution_count": 3,
   "metadata": {},
   "outputs": [],
   "source": [
    "### Imports\n",
    "import numpy as np\n",
    "import pandas as pd\n",
    "\n",
    "import json\n",
    "import requests\n",
    "from bs4 import BeautifulSoup"
   ]
  },
  {
   "cell_type": "code",
   "execution_count": 4,
   "metadata": {},
   "outputs": [],
   "source": [
    "def innerHTML(element):\n",
    "    \"\"\"Returns the inner HTML of an element as a UTF-8 encoded bytestring\"\"\"\n",
    "    return element.encode_contents().decode(\"utf-8\",'ignore')\n",
    "\n",
    "def getBase():\n",
    "    return \"https://www.cpska.cz/public/\""
   ]
  },
  {
   "cell_type": "code",
   "execution_count": 5,
   "metadata": {},
   "outputs": [],
   "source": [
    "#get most recent upload\n",
    "def get_highest_id(url, headers):\n",
    "    id = 0\n",
    "    print(\"Crawling date page: \"+url)\n",
    "    source = requests.get(url, headers=headers)\n",
    "    soup = BeautifulSoup(source.text, \"html.parser\")\n",
    "    obsah = soup.findAll('div', {'id':'obsah'})[0]\n",
    "    rows = obsah.findAll('tr', href=False)[2:]\n",
    "    ids = []\n",
    "    for row in rows:\n",
    "        flight_info = row.findAll('td', href=False)[10]\n",
    "        flight_link = flight_info.findAll('a', href=True)[0]\n",
    "        if(flight_link):\n",
    "            link = flight_link['href']\n",
    "            print(\"FLight Link: \"+link)\n",
    "            flight_id = link.split('id=')[1]\n",
    "            print(flight_id)\n",
    "            ids.append(flight_id)\n",
    "    id = max(ids)\n",
    "    print(ids)\n",
    "    print(\"Chosen: \"+id)\n",
    "    return id\n",
    "    \n",
    "#get most recent date\n",
    "def get_last_flight(page, headers):\n",
    "    url = page+'?lpg=sezlet'\n",
    "    print(\"Crawling flights page: \"+url)\n",
    "    source = requests.get(url, headers=headers)\n",
    "    soup = BeautifulSoup(source.text, \"html.parser\")\n",
    "    #First row with flight to get the most recent date\n",
    "    row = soup.findAll('tr', href=False)[2]\n",
    "    last_date = row.findAll('td', {'class':'cllDatum'}, href=False)[0]\n",
    "    date = innerHTML(last_date.find('a', href=True))\n",
    "    datelink = last_date.find('a', href=True)\n",
    "    print(datelink['href'])\n",
    "    print(\"Date of last added flight: \"+date)\n",
    "    return get_highest_id((getBase()+datelink['href']), headers)"
   ]
  },
  {
   "cell_type": "code",
   "execution_count": 6,
   "metadata": {},
   "outputs": [],
   "source": [
    "def get_airport(s):\n",
    "    a = s.split(') ')[1].split('(')[0]\n",
    "    #print(a)\n",
    "    if(len(a) != 4 or a[1] == '@'):\n",
    "        return np.nan\n",
    "    else:\n",
    "        return a[:4]\n",
    "    \n",
    "#scrape coordinates from point log page\n",
    "def get_coordinates(page, headers, flight):\n",
    "    url = page+'&rezim=varianty'\n",
    "    check = requests.head(url, headers=headers)\n",
    "    if(check.ok):\n",
    "        coordinates= {}\n",
    "        source = requests.get(url, headers=headers)\n",
    "        source.encoding = 'cp1250'\n",
    "        soup = BeautifulSoup(source.text, \"html.parser\")\n",
    "        points = soup.findAll('div', {'class': 'tratbod'})\n",
    "        if(len(points) < 1):\n",
    "            flight['coordinates'] = np.nan\n",
    "            return flight\n",
    "            \n",
    "        first_point = points[0]\n",
    "        last_point = points[-1]\n",
    "        coordinates['start'] = innerHTML(first_point.findAll('div', {'class':'nazev'})[0]).split('(')[1].split(' ')[0]\n",
    "        coordinates['finish'] = innerHTML(last_point.findAll('div', {'class':'nazev'})[0]).split('(')[1].split(' ')[0]\n",
    "        coordinates['startAirport'] = get_airport(innerHTML(first_point.findAll('div', {'class':'nazev'})[0]))\n",
    "        coordinates['finishAirport'] = get_airport(innerHTML(first_point.findAll('div', {'class':'nazev'})[0]))\n",
    "        flight['coordinates'] = coordinates\n",
    "    else:\n",
    "        flight['coordinates'] = np.nan\n",
    "        \n",
    "        \n",
    "    return flight\n",
    "\n",
    "\n",
    "def get_flight(page, headers):\n",
    "    flight = {}\n",
    "    pilot = {}\n",
    "    glider = {}\n",
    "    \n",
    "    source = requests.get(page, headers=headers)\n",
    "    # fixed encoding since most html pages on this web are windows-1250 encoded\n",
    "    source.encoding = 'cp1250'\n",
    "    #print(\"Crawling \"+page)\n",
    "    soup = BeautifulSoup(source.text, \"html.parser\")\n",
    "\n",
    "    #side_panel with most valuable information\n",
    "    side_panel = soup.findAll('div', {'id':'right'})[0]\n",
    "    #flight date\n",
    "    flight['date'] = innerHTML(side_panel.findAll('a')[0])\n",
    "    \n",
    "    #glider\n",
    "    side_panels = side_panel.findAll('div', {'class':'panel_lt'})\n",
    "    glider_panel = side_panels[0]\n",
    "    glider_h2 = glider_panel.findAll('h2')[0]\n",
    "    glider['type'] = innerHTML(glider_h2.findAll('a', href=True)[0])\n",
    "    glider_im = innerHTML(glider_h2).split('</a>')[1]\n",
    "    glider['immatriculation'] = glider_im[2:-1]\n",
    "\n",
    "    \n",
    "    #pilot panel\n",
    "    pilot_panel = side_panels[1]\n",
    "    pilot['name'] = innerHTML(pilot_panel.findAll('div',{'class':'jmeno'})[0])\n",
    "    pilot['club'] = innerHTML(pilot_panel.findAll('div',{'class':'aeroklub'})[0])\n",
    "    \n",
    "    #flight info\n",
    "    flight['pilot'] = pilot\n",
    "    flight['glider'] = glider\n",
    "    flight_panel = side_panels[2]\n",
    "    flight['distance'] = innerHTML(flight_panel.findAll('h1')[0])[:-3]\n",
    "    flight['speed'] = innerHTML(flight_panel.findAll('h2')[0])[:-5]\n",
    "    flight['shape'] = (innerHTML(flight_panel.findAll('p')[0])).split(':')[1][1:]\n",
    "    flight['type'] = (innerHTML(flight_panel.findAll('p')[1])).split(':')[1][1:]\n",
    "\n",
    "    for p in flight_panel.findAll('p'):\n",
    "        header = innerHTML(p.findAll('b')[0])\n",
    "        if('let' in header):\n",
    "            flight['competition'] = 1\n",
    "            break\n",
    "        else:\n",
    "            flight['competition'] = 0\n",
    "        \n",
    "    #flight start and finish coordinates and airport codes\n",
    "    flight = get_coordinates(page, headers, flight)\n",
    "    return flight\n"
   ]
  },
  {
   "cell_type": "code",
   "execution_count": 7,
   "metadata": {},
   "outputs": [],
   "source": [
    "def mycrawler(page, headers, pages_count, start):\n",
    "    crawled=[]\n",
    "    # get upper bound from table, if start is unknown, take most recent flight added to website\n",
    "    if(start == 0):\n",
    "        upper_bound = get_last_flight(page, headers)\n",
    "    else:\n",
    "        upper_bound = start\n",
    "    lower_bound = int(upper_bound) - int(pages_count)\n",
    "    count = int(upper_bound)\n",
    "    \n",
    "    #scrape pages_count flights\n",
    "    while(count > lower_bound):\n",
    "        flight_url = page+'?lpg=zobraz_let&let_id='+str(count)\n",
    "        check = requests.head(flight_url, headers=headers)\n",
    "        #print(check.ok)\n",
    "        if(check.ok):\n",
    "            source = requests.get(flight_url, headers=headers)\n",
    "            soup = BeautifulSoup(source.text, \"html.parser\")\n",
    "            labels = (soup.findAll('div', {'id':'obsah'})[0]).findAll('label')\n",
    "            if(len(labels) > 0):\n",
    "                label = innerHTML(labels[0])\n",
    "                if('nebyl nalezen' in label):\n",
    "                    print(\"Flight \"+str(count)+\" not found\")\n",
    "                    lower_bound -= 1\n",
    "                    count -= 1\n",
    "                    continue\n",
    "            flight_info = get_flight(flight_url, headers)\n",
    "            crawled.append(flight_info)\n",
    "        else:\n",
    "            print(\"Invalid flight_id\")\n",
    "            lower_bound -= 1\n",
    "        count -= 1\n",
    "        \n",
    "    #return scraped data and also last flight ID -> which will be start of next set\n",
    "    return crawled, count"
   ]
  },
  {
   "cell_type": "code",
   "execution_count": 8,
   "metadata": {},
   "outputs": [],
   "source": [
    "# function loads and displays data in JSON format\n",
    "\"\"\"\n",
    "Example of flight data in JSON format:\n",
    "   {\n",
    "      \"competition\": 0,\n",
    "      \"coordinates\": {\n",
    "         \"finish\": \"49'17'133N,17'24'950E\",\n",
    "         \"finishAirport\": \"LKKM\",\n",
    "         \"start\": \"49'17'133N,17'24'950E\",\n",
    "         \"startAirport\": \"LKKM\"\n",
    "      },\n",
    "      \"date\": \"06.09.2018\",\n",
    "      \"distance\": \"176.6\",\n",
    "      \"glider\": {\n",
    "         \"immatriculation\": \"OK-8181\",\n",
    "         \"type\": \"Std. Cirrus\"\n",
    "      },\n",
    "      \"pilot\": {\n",
    "         \"club\": \"Holešov\",\n",
    "         \"name\": \"Mára Vala\"\n",
    "      },\n",
    "      \"shape\": \"polygon s 5OB\",\n",
    "      \"speed\": \"57.68\",\n",
    "      \"type\": \"rychlostní let se změnou tratě za letu\"\n",
    "   }\n",
    "\"\"\"\n",
    "def print_json(data):\n",
    "    dataJson = json.dumps(data)\n",
    "    str_p = ''.join(dataJson)\n",
    "    j = json.loads(str_p, encoding=\"utf-8\")\n",
    "    print(json.dumps(j, indent=3, sort_keys=True, ensure_ascii=False))"
   ]
  },
  {
   "cell_type": "code",
   "execution_count": 9,
   "metadata": {},
   "outputs": [],
   "source": [
    "# function flattens multilevel JSON structure into 1 level -- for tables and csv purposes\n",
    "def flatten(data):\n",
    "    flat = []\n",
    "    for flight in data:\n",
    "        new = {}\n",
    "        new['competition'] = flight['competition']\n",
    "        new['date'] = flight['date']\n",
    "        new['distance'] = flight['distance']\n",
    "        new['shape'] = flight['shape']\n",
    "        new['speed'] = flight['speed']\n",
    "        new['type'] = flight['type']\n",
    "        new['pilotName'] = flight['pilot']['name']\n",
    "        new['pilotClub'] = flight['pilot']['club']\n",
    "        new['gliderType'] = flight['glider']['type']\n",
    "        new['gliderImat'] = flight['glider']['immatriculation']\n",
    "        if(flight['coordinates'] != np.nan):\n",
    "            #print(flight['coordinates']['start'])\n",
    "            new['startCoords'] = flight['coordinates']['start']\n",
    "            new['finishCoords'] = flight['coordinates']['finish']\n",
    "            new['startPort'] = flight['coordinates']['startAirport']\n",
    "            new['finishPort'] = flight['coordinates']['finishAirport']\n",
    "        else:\n",
    "            new['startCoords'] = np.nan\n",
    "            new['finishCoords'] = np.nan\n",
    "            new['startPort'] = np.nan\n",
    "            new['finishPort'] = np.nan\n",
    "        flat.append(new)\n",
    "    return flat"
   ]
  },
  {
   "cell_type": "code",
   "execution_count": 10,
   "metadata": {},
   "outputs": [],
   "source": [
    "def scrape_and_save(start, page_count, filename, prtJson=False):\n",
    "    page = 'https://www.cpska.cz/public/index3.php'\n",
    "    headers= {  \"User-Agent\": \"DDW\",\n",
    "            #\"Upgrade-Insecure-Requests\": \"1\",\n",
    "            \"Content-Encoding\": \"windows-1250\",\n",
    "            \"Accept\": \"text/html\"}\n",
    "    data, last_id = mycrawler(page, headers, page_count, start)\n",
    "    if(prtJson):\n",
    "        print_json(data)\n",
    "        with open('./../results/json_flights_'+str(start)+'.json', 'w') as outfile:\n",
    "            json.dump(data, outfile)\n",
    "    tab = pd.DataFrame(flatten(data))\n",
    "    tab.to_csv('./../results/'+filename+\"_\"+str(start)+'.csv', sep=';')\n",
    "    print(\"Saved: \"+filename+\"_\"+str(start)+'.csv')\n",
    "    return last_id"
   ]
  },
  {
   "cell_type": "code",
   "execution_count": null,
   "metadata": {},
   "outputs": [],
   "source": [
    "start = 0\n",
    "#scraping flights in portions of 100, total of 1000 flights in this go\n",
    "for i in range(0,2):\n",
    "    start = scrape_and_save(start, 10, 'flights', True) #change to True for JSON data dump after each set"
   ]
  },
  {
   "cell_type": "markdown",
   "metadata": {},
   "source": [
    "### Concatenating all csv files"
   ]
  },
  {
   "cell_type": "code",
   "execution_count": 58,
   "metadata": {},
   "outputs": [
    {
     "name": "stdout",
     "output_type": "stream",
     "text": [
      "Number of sets scraped: 10\n"
     ]
    }
   ],
   "source": [
    "import glob\n",
    "all_files = glob.glob(\"./../results/flights*.csv\")\n",
    "print(\"Number of sets scraped: \"+str(len(all_files)))\n",
    "all_flights = pd.DataFrame()\n",
    "flights = []\n",
    "for file in all_files:\n",
    "    flight = pd.read_csv(file, sep=';')\n",
    "    flights.append(flight)\n",
    "    \n",
    "all_flights = pd.concat(flights, axis=0)\n",
    "all_flights.drop(columns=[\"Unnamed: 0\"], inplace=True)\n",
    "all_flights.to_csv('./../results/all_flights.csv', sep=';')"
   ]
  },
  {
   "cell_type": "code",
   "execution_count": 70,
   "metadata": {},
   "outputs": [
    {
     "name": "stdout",
     "output_type": "stream",
     "text": [
      "<class 'pandas.core.frame.DataFrame'>\n",
      "Int64Index: 1000 entries, 0 to 99\n",
      "Data columns (total 14 columns):\n",
      " #   Column        Non-Null Count  Dtype  \n",
      "---  ------        --------------  -----  \n",
      " 0   competition   1000 non-null   int64  \n",
      " 1   date          1000 non-null   object \n",
      " 2   distance      1000 non-null   float64\n",
      " 3   finishCoords  1000 non-null   object \n",
      " 4   finishPort    79 non-null     object \n",
      " 5   gliderImat    976 non-null    object \n",
      " 6   gliderType    1000 non-null   object \n",
      " 7   pilotClub     1000 non-null   object \n",
      " 8   pilotName     1000 non-null   object \n",
      " 9   shape         1000 non-null   object \n",
      " 10  speed         1000 non-null   float64\n",
      " 11  startCoords   1000 non-null   object \n",
      " 12  startPort     79 non-null     object \n",
      " 13  type          1000 non-null   object \n",
      "dtypes: float64(2), int64(1), object(11)\n",
      "memory usage: 117.2+ KB\n",
      "None\n"
     ]
    }
   ],
   "source": [
    "selection =  all_flights.iloc[:]\n",
    "print(selection.info())"
   ]
  },
  {
   "cell_type": "code",
   "execution_count": 60,
   "metadata": {},
   "outputs": [
    {
     "data": {
      "text/plain": [
       "<AxesSubplot:>"
      ]
     },
     "execution_count": 60,
     "metadata": {},
     "output_type": "execute_result"
    },
    {
     "data": {
      "image/png": "[encoded data removed]",
      "text/plain": [
       "<Figure size 432x288 with 1 Axes>"
      ]
     },
     "metadata": {
      "needs_background": "light"
     },
     "output_type": "display_data"
    }
   ],
   "source": [
    "selection.distance.hist()"
   ]
  },
  {
   "cell_type": "code",
   "execution_count": 61,
   "metadata": {},
   "outputs": [
    {
     "name": "stdout",
     "output_type": "stream",
     "text": [
      "Most frequently used plane: OK-7393\n",
      "Most frequent pilot: Vojtěch Hájek\n"
     ]
    }
   ],
   "source": [
    "print(\"Most frequently used plane:\", selection.gliderImat.mode()[0])\n",
    "print(\"Most frequent pilot:\", selection.pilotName.mode()[0])"
   ]
  },
  {
   "cell_type": "code",
   "execution_count": 69,
   "metadata": {},
   "outputs": [
    {
     "name": "stdout",
     "output_type": "stream",
     "text": [
      "Most frequent pilot flew: 7072 km, between dates 2018-10-26 00:00:00 and 2019-03-02 00:00:00\n",
      "His most commont flight shape was: polygon s 5OB\n"
     ]
    }
   ],
   "source": [
    "frequent_flyer = selection.loc[selection.pilotName == selection.pilotName.mode()[0]].copy()\n",
    "frequent_flyer.loc[:,\"datetime\"] = pd.to_datetime(frequent_flyer.date, format='%d.%m.%Y')\n",
    "print(\"Most frequent pilot flew:\", int(frequent_flyer.distance.sum()), \"km, between dates\",frequent_flyer.datetime.min(), \"and\", frequent_flyer.datetime.max())\n",
    "print(\"His most commont flight shape was:\", frequent_flyer[\"shape\"].mode()[0])"
   ]
  },
  {
   "cell_type": "code",
   "execution_count": 27,
   "metadata": {},
   "outputs": [
    {
     "name": "stdout",
     "output_type": "stream",
     "text": [
      "          date  distance      pilotName gliderImat\n",
      "24  02.03.2019     269.8  Vojtěch Hájek     VH-GKC\n",
      "25  01.03.2019     311.1  Vojtěch Hájek     VH-GFV\n",
      "26  28.02.2019     114.6  Vojtěch Hájek     VH-GFV\n",
      "27  27.02.2019     173.5  Vojtěch Hájek     VH-CQO\n",
      "29  26.02.2019     318.5  Vojtěch Hájek     VH-WVS\n",
      "30  21.02.2019     328.4  Vojtěch Hájek     VH-WVS\n",
      "34  14.02.2019     315.1  Vojtěch Hájek     VH-GFV\n",
      "38  08.02.2019     151.5  Vojtěch Hájek     VH-WVS\n",
      "43  31.01.2019     518.9  Vojtěch Hájek     VH-GFV\n",
      "46  29.01.2019     384.0  Vojtěch Hájek     VH-GFV\n",
      "48  28.01.2019     110.0  Vojtěch Hájek     VH-GOC\n",
      "52  25.01.2019     244.6  Vojtěch Hájek     VH-GKC\n",
      "55  24.01.2019     369.3  Vojtěch Hájek     VH-GFV\n",
      "58  22.01.2019     343.5  Vojtěch Hájek     VH-GKC\n",
      "66  18.01.2019     129.0  Vojtěch Hájek     VH-GOC\n",
      "70  17.01.2019     301.4  Vojtěch Hájek     VH-GKC\n",
      "71  17.01.2019     160.0  Vojtěch Hájek     VH-GKC\n",
      "87  10.01.2019     335.3  Vojtěch Hájek     VH-GKC\n",
      "88  10.01.2019     236.7  Vojtěch Hájek     VH-GKC\n",
      "91  09.01.2019     302.7  Vojtěch Hájek     VH-GKC\n",
      "92  09.01.2019     217.3  Vojtěch Hájek     VH-GKC\n",
      "54  26.10.2018      80.2  Vojtěch Hájek    OK-4902\n",
      "0   07.01.2019     143.6  Vojtěch Hájek     VH-GKC\n",
      "51  26.12.2018     564.5  Vojtěch Hájek     VH-GBV\n",
      "64  23.12.2018     510.1  Vojtěch Hájek     VH-GKC\n",
      "81  19.12.2018     138.8  Vojtěch Hájek     VH-WVS\n"
     ]
    }
   ],
   "source": [
    "print(frequent_flyer[[\"date\", \"distance\", \"pilotName\", \"gliderImat\"]])"
   ]
  },
  {
   "cell_type": "code",
   "execution_count": null,
   "metadata": {},
   "outputs": [],
   "source": []
  }
 ],
 "metadata": {
  "kernelspec": {
   "display_name": "Python 3.9.13 64-bit (windows store)",
   "language": "python",
   "name": "python3"
  },
  "language_info": {
   "codemirror_mode": {
    "name": "ipython",
    "version": 3
   },
   "file_extension": ".py",
   "mimetype": "text/x-python",
   "name": "python",
   "nbconvert_exporter": "python",
   "pygments_lexer": "ipython3",
   "version": "3.9.13"
  },
  "vscode": {
   "interpreter": {
    "hash": "9da297d614bb2667dfb21fadcf07f5f64679004c9ae9ad9a1b5a03e6f7f19cbc"
   }
  }
 },
 "nbformat": 4,
 "nbformat_minor": 2
}
