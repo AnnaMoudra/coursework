{
 "cells": [
  {
   "cell_type": "markdown",
   "metadata": {},
   "source": [
    "# MI-SPI - Domácí úkol 1.\n",
    "---\n",
    "#### Skupina: \n",
    "    - Vojtěch Polcar (polcavoj, paralelka 108) - reprezentant\n",
    "    - Anna Moudrá (moudrann, paralelka 102)\n",
    "\n",
    "Nejprve určíme parametry pro výpočet hodnot, které určí soubory pro vypracování úkolů."
   ]
  },
  {
   "cell_type": "code",
   "execution_count": 1,
   "metadata": {},
   "outputs": [],
   "source": [
    "import numpy as np\n",
    "from scipy import stats\n",
    "from scipy.optimize import minimize\n",
    "import pandas as pd\n",
    "import seaborn as sns\n",
    "\n",
    "import matplotlib.pyplot as plt"
   ]
  },
  {
   "cell_type": "code",
   "execution_count": 14,
   "metadata": {},
   "outputs": [
    {
     "name": "stdout",
     "output_type": "stream",
     "text": [
      "Vstupní soubor: 001.txt\n"
     ]
    }
   ],
   "source": [
    "k = 20\n",
    "l = 6\n",
    "x = ((k*l*23) % 20) + 1\n",
    "\n",
    "str_X = (3 - len(str(x)))*'0'+ str(x) + '.txt'\n",
    "\n",
    "print(\"Vstupní soubor:\", str_X)"
   ]
  },
  {
   "cell_type": "markdown",
   "metadata": {},
   "source": [
    "---\n",
    "### 1) Z datového souboru načtěte text k analýze. Odhadněte pravděpodobnosti písmen (včetně mezer), které se v textu vyskytují. Takto získané empirické rozdělení graficky znázorněte. \n",
    "\n",
    "V této úloze nejprve načteme text ze souboru k analýze a rozdělíme ho na jednotlivé znaky. Poté projdeme celý text a jednotlivé znaky sečteme. Tyto hodnoty nakonec vydělíme celkovým počtem znaků, z čehož dostaneme pravděpodobnost výskytu znaků v textu. Pravděpodobnost znaků je získána ze vzorce:\n",
    "$$P(c)=\\frac{m}{n}$$ kde c je aktuální znak, m je počet zastoupení znaku v textu a n je celkový počet všech znaků."
   ]
  },
  {
   "cell_type": "code",
   "execution_count": 3,
   "metadata": {},
   "outputs": [
    {
     "name": "stdout",
     "output_type": "stream",
     "text": [
      "Název textu: Pierrot, Dog of Belgium, by Walter A. Dyer\n",
      "\n"
     ]
    }
   ],
   "source": [
    "f = open('./hw1-source/'+str_X, 'r')\n",
    "X_info = f.readline()\n",
    "data_X = f.read()\n",
    "f.close()\n",
    "\n",
    "print('Název textu:', X_info)"
   ]
  },
  {
   "cell_type": "code",
   "execution_count": 4,
   "metadata": {},
   "outputs": [
    {
     "name": "stdout",
     "output_type": "stream",
     "text": [
      "(array([' ', 'a', 'b', 'c', 'd', 'e', 'f', 'g', 'h', 'i', 'j', 'k', 'l',\n",
      "       'm', 'n', 'o', 'p', 'q', 'r', 's', 't', 'u', 'v', 'w', 'x', 'y',\n",
      "       'z'], dtype='<U1'), array([1199,  438,   96,  102,  303,  659,  137,  141,  337,  297,   15,\n",
      "         52,  249,  109,  355,  399,   91,    6,  350,  291,  436,  159,\n",
      "         30,  117,    1,   83,    6]))\n"
     ]
    }
   ],
   "source": [
    "x_uni = np.array(list(data_X[:]))\n",
    "x_uni = np.unique(x_uni, return_counts=True)\n",
    "print(x_uni)"
   ]
  },
  {
   "cell_type": "code",
   "execution_count": 5,
   "metadata": {},
   "outputs": [],
   "source": [
    "chars_x = pd.DataFrame()\n",
    "chars_x['char'] = x_uni[0]\n",
    "chars_x['count'] = x_uni[1]\n",
    "chars_x['prob'] = chars_x['count']/(np.sum(x_uni[1]))\n",
    "\n",
    "chars_x.char = chars_x.char.replace(\" \", 'space')"
   ]
  },
  {
   "cell_type": "code",
   "execution_count": 6,
   "metadata": {},
   "outputs": [
    {
     "data": {
      "image/png": "[encoded data removed]",
      "text/plain": [
       "<Figure size 1008x360 with 1 Axes>"
      ]
     },
     "metadata": {
      "needs_background": "light"
     },
     "output_type": "display_data"
    }
   ],
   "source": [
    "colors = [\"#3778bf\",\"#feb308\"]\n",
    "plt.figure(figsize=(14,5))\n",
    "sns.barplot(x='char', y='prob', data=chars_x, color=colors[0], saturation=1)\n",
    "plt.title(\"Rozdělení znaků v textu\"),plt.xlabel(\"znak\"),plt.ylabel(\"pravděpodobnost výskytu\")\n",
    "plt.show()"
   ]
  },
  {
   "cell_type": "markdown",
   "metadata": {},
   "source": [
    "#### Diskuze k výsledku\n",
    "Z grafu můžeme vidět, že rozdělení písmen odpovídá tomu, že je text v anglickém jazyce. Pokud nebudeme počítat mezery, tak jsou v něm nejčastějšími znaky právě písmena e, t, a, což potvrzuje i graf.\n",
    "\n",
    "#### Pro další body předpokládejme, že je text vygenerován z homogenního markovského řetězce s diskrétním časem."
   ]
  },
  {
   "cell_type": "markdown",
   "metadata": {},
   "source": [
    "### 2) Za tohoto předpokladu odhadněte matici přechodu.\n",
    "Z načtého textu odhadneme matici přechodu. Protože předpokládáme, že je text vygenerován z homogenního markovského řetězce, získáme matici tak, že projdeme text a pro každý znak se podíváme na jeho následníka. To můžeme udělat protože předchozí předpoklad nám říká, že nezávisí na tom, jaké následníky měl znak dříve, ale zajímá nás pouze aktuální stav.\n",
    "\n",
    "V řešení níže projdeme zadaný text a pro každý znak vytvoříme pravděpodobnost přechodu na všechny znaky. Pravděpodobnost každého přechodu odhadneme pomocí vzorce:\n",
    "$$P(M_{i+1}= d | M_i = c)=\\frac{m}{n}$$ kde c je aktuální znak, d je následující znak, m je počet výskytů znaku d za znakem c a n je počet všech výskytů znaku c (neboli počet všech následníků)."
   ]
  },
  {
   "cell_type": "code",
   "execution_count": 17,
   "metadata": {},
   "outputs": [
    {
     "name": "stdout",
     "output_type": "stream",
     "text": [
      "Test (součet řádků): \n",
      "space    1.0\n",
      "a        1.0\n",
      "b        1.0\n",
      "c        1.0\n",
      "d        1.0\n",
      "e        1.0\n",
      "f        1.0\n",
      "g        1.0\n",
      "h        1.0\n",
      "i        1.0\n",
      "j        1.0\n",
      "k        1.0\n",
      "l        1.0\n",
      "m        1.0\n",
      "n        1.0\n",
      "o        1.0\n",
      "p        1.0\n",
      "q        1.0\n",
      "r        1.0\n",
      "s        1.0\n",
      "t        1.0\n",
      "u        1.0\n",
      "v        1.0\n",
      "w        1.0\n",
      "x        1.0\n",
      "y        1.0\n",
      "z        1.0\n",
      "dtype: float64\n"
     ]
    }
   ],
   "source": [
    "# UDĚLAT OBŘÍ MATICI - NASČÍTAT CO JDE ZA JAKYM ZNAKEM A UDĚLAT Z TOHO PRAVDĚPODOBNOSTI\n",
    "chars = chars_x.char.unique()\n",
    "#print(chars)\n",
    "P = pd.DataFrame(index=chars, columns=chars)\n",
    "\n",
    "\n",
    "def fillP(df, text, alphabet):\n",
    "    for a in alphabet:\n",
    "        char = a\n",
    "        if char == 'space':\n",
    "            char = \" \"\n",
    "        indexes = [int(index+1) for index, value in enumerate(text) if value == char]\n",
    "        found = [text[i] for i in indexes if i < len(text)]\n",
    "        for b in df.columns:\n",
    "            after_char = b\n",
    "            if after_char == 'space':\n",
    "                after_char = \" \"\n",
    "            if(after_char in set(found)):\n",
    "                after_char_prob = found.count(after_char)/len(found)\n",
    "                df[b][a] = after_char_prob\n",
    "            else:\n",
    "                df[b][a] = 0\n",
    "            \n",
    "        \n",
    "            \n",
    "fillP(P, data_X,chars)\n",
    "#display(P.head())\n",
    "print(\"Test (součet řádků): \")\n",
    "print(P.sum(axis=1))"
   ]
  },
  {
   "cell_type": "code",
   "execution_count": 8,
   "metadata": {},
   "outputs": [],
   "source": [
    "P.to_csv(\"matice_prechodu.csv\")"
   ]
  },
  {
   "cell_type": "markdown",
   "metadata": {},
   "source": [
    "#### Diskuze k výsledku\n",
    "Výsledkem předchozích výpočtů je matice o velikosti 27x27. Pro přehlednost je matice vyexportovaná do souboru \"matice_prechodu.csv\".\n",
    "Pro kontrolu byl proveden i součet pravděpodobností jednotlivých řádků. Ten správně vyšel pro každý řádek roven 1."
   ]
  },
  {
   "cell_type": "markdown",
   "metadata": {},
   "source": [
    "#### 3) Na základě matice z předchozího bodu najděte stacionární rozdělení tohoto řetězce.\n",
    "Stacionární rozdělení řetězce najdeme na základě matice z předchozího příkladu. Stacionární rozdělení $\\pi$ je řešením soustavy rovnice $\\pi=\\pi*P$. Tuto soustavu rovnic si upravíme na: $ \\pi - \\pi*P = 0$ a následně na $ \\pi*(I - P) = 0$, kde $I$ je jednotková matice. Dále víme, že $ \\sum \\pi = 1$. \n",
    "\n",
    "Soustavu nyní můžeme napsat ve tvaru Ax = b, kde b je transponovaný vektor $(0,\\dots,0,1)$ a A je matice $ \\pi*(I - P) $ s přidaným posledním řádkem, reprezentujícím vektor $\\pi - (\\pi_0, \\pi_1,\\dots,\\pi_{26})$."
   ]
  },
  {
   "cell_type": "code",
   "execution_count": 13,
   "metadata": {},
   "outputs": [
    {
     "name": "stdout",
     "output_type": "stream",
     "text": [
      "Stationary: [0.18570145528394705, 0.06783413051436557, 0.014868368795939646, 0.015796940837522255, 0.04692576751394258, 0.10205425965931908, 0.021216882050768715, 0.021843746900416038, 0.05215764575441392, 0.04599409450396163, 0.00232320419454483, 0.008053552592696462, 0.038557951783603245, 0.01688022014058139, 0.054979412400881736, 0.061783587274558446, 0.014093962454750886, 0.0009294701178297338, 0.054219534943122406, 0.04508217464800904, 0.06736804148266043, 0.02462805399717019, 0.004645995127833057, 0.01812015989003305, 0.00015486230600811335, 0.012857372099992197, 0.0009291527311291806]\n",
      "\n",
      "Kontrolní součet: 1.0000000000000009\n"
     ]
    }
   ],
   "source": [
    "\"\"\" \n",
    "pi = pi*P \n",
    "soustava rovnic kde vektor pi je resenim soustavy:\n",
    "        pi( I - P ) == 0   upravena rovnice\n",
    "        sum(pi) == 1\n",
    "        \n",
    "        tuto soustavu muzeme napsat ve tvaru Ax = b\n",
    "        kde b.T = [0,..,0,1]\n",
    "        a A = [[\n",
    "                \n",
    "                    pi( I - P )\n",
    "                        \n",
    "                                  ]\n",
    "                [ pi0 + .. + pi26 ]]\n",
    "\"\"\"\n",
    "def stationary(P):\n",
    "    rows = P.shape[0] # velikost vektoru pi\n",
    "    a = np.eye(rows) - P # I - P # vektor levych stran\n",
    "    a = np.vstack( (a.T, np.ones(rows)) ) # pridani sum(pi) == 1\n",
    "    # v promenne a je ted matice A v soustave Ax = b\n",
    "    b_vect = np.zeros(rows+1) # vektor pravych stran b\n",
    "    b_vect[-1] = 1 # 0 pro kazdou rovnici  pi( I - P ) a 1 pro sum(pi) == 1\n",
    "    pi = np.linalg.lstsq( a.astype(float), np.matrix(b_vect, dtype = 'float').T , rcond=None ) #reseni sustavy rovnic\n",
    "    return [i[0] for i in pi[0].tolist()] #prevod 2D listu do vektoru reseni\n",
    "    \n",
    "\n",
    "P_matrix = P.values\n",
    "p_stationary = stationary(P)\n",
    "print(\"Stationary:\",p_stationary)\n",
    "\n",
    "print(\"\\nKontrolní součet:\",np.sum(p_stationary)) #kontrolni soucet"
   ]
  },
  {
   "cell_type": "code",
   "execution_count": 18,
   "metadata": {},
   "outputs": [
    {
     "data": {
      "image/png": "[encoded data removed]",
      "text/plain": [
       "<Figure size 1008x360 with 1 Axes>"
      ]
     },
     "metadata": {
      "needs_background": "light"
     },
     "output_type": "display_data"
    }
   ],
   "source": [
    "#print(chars)\n",
    "count = len(chars)\n",
    "df = pd.DataFrame(data = {'char': list(chars)+list(chars),'values': list(chars_x.prob)+p_stationary, 'kind': list(['data']*count+['stationary']*count)})\n",
    "plt.figure(figsize=(14, 5))\n",
    "sns.barplot(x='char', hue=\"kind\", y=\"values\", data=df, palette = colors, saturation=1.)\n",
    "plt.title(\"Rozdělení znaků v textu a stacionární rozdělení\"),plt.xlabel(\"znak\"),plt.ylabel(\"pravděpodobnost výskytu\")\n",
    "plt.show()"
   ]
  },
  {
   "cell_type": "markdown",
   "metadata": {},
   "source": [
    "#### Diskuze k výsledku\n",
    "Pro výsledný vektor stacionárního rozdělení jsme provedli kontrolní součet, zda se $\\sum_{i=0}^{26} \\pi_i$ rovná 1. Malá odchylka 1.0000000000000009 je způsobena sčítáním malých čísel s omezenou desetinnou přesností. Výsledný vektor $\\pi$ je skutečně stacionárním rozdělením."
   ]
  },
  {
   "cell_type": "markdown",
   "metadata": {},
   "source": [
    "### 4) Porovnejte stacionární rozdělení se získaným empirickým rozdělením. Tj. na hladině 5% otestujte hypotézu, že se empirické rozdělení z bodu 1 rovná stacionárnímu rozdělení.\n",
    "Pro otestování hypotézy použijeme test dobré shody $\\chi^2$ při známých parametrech:\n",
    "$$\\chi^2 = \\sum_{i=1}^k \\frac{(N_i - np_i)^2}{np_i}$$\n",
    "\n",
    "s kritickým oborem\n",
    "\n",
    "$$\\chi^2 \\geq \\chi^2_{\\alpha,k-1}$$\n",
    "\n",
    "Na hladině významnosti $5\\%$ budeme testovat hypotézu:\n",
    "- Rozdělení se rovnají: $H_0$: $p'=p$                      \n",
    "- Rozdělení jsou rozdílná: $H_A$: $p'\\neq p$      "
   ]
  },
  {
   "cell_type": "code",
   "execution_count": 19,
   "metadata": {},
   "outputs": [
    {
     "name": "stdout",
     "output_type": "stream",
     "text": [
      "statistika: 0.00000037\n",
      "p_value: 1.0\n"
     ]
    }
   ],
   "source": [
    "s,p = stats.chisquare(chars_x.prob, p_stationary)\n",
    "print(\"statistika:\",\"%.8f\" % s)\n",
    "print(\"p_value:\",p)"
   ]
  },
  {
   "cell_type": "markdown",
   "metadata": {},
   "source": [
    "#### Diskuze k výsledku\n",
    "Pokud je hladina významnosti $\\alpha$ větší než $p$ hodnota testu, zamítáme $H_0$ ve prospěch $H_A$ na hladině $\\alpha$.\n",
    "V našem případě je $p$ hodnota testu rovna 1, tedy hypotézu $H_0$ **nezamítáme** a nezamítnuli bychom ji ani na hladině významnosti blížící se $100\\%$.\n",
    "Stejně tak můžeme porovnat Pearsonovu statistiku s hodnotou z tabulek kde $\\chi^2_{0.05,26} = 38.885$ a opět vidíme, že se k rozhodnutí zamítnutí ani neblížíme.\n",
    "\n"
   ]
  }
 ],
 "metadata": {
  "kernelspec": {
   "display_name": "Python 3",
   "language": "python",
   "name": "python3"
  },
  "language_info": {
   "codemirror_mode": {
    "name": "ipython",
    "version": 3
   },
   "file_extension": ".py",
   "mimetype": "text/x-python",
   "name": "python",
   "nbconvert_exporter": "python",
   "pygments_lexer": "ipython3",
   "version": "3.6.8"
  },
  "latex_envs": {
   "LaTeX_envs_menu_present": true,
   "autoclose": false,
   "autocomplete": true,
   "bibliofile": "biblio.bib",
   "cite_by": "apalike",
   "current_citInitial": 1,
   "eqLabelWithNumbers": true,
   "eqNumInitial": 1,
   "hotkeys": {
    "equation": "Ctrl-E",
    "itemize": "Ctrl-I"
   },
   "labels_anchors": false,
   "latex_user_defs": false,
   "report_style_numbering": false,
   "user_envs_cfg": false
  }
 },
 "nbformat": 4,
 "nbformat_minor": 2
}
