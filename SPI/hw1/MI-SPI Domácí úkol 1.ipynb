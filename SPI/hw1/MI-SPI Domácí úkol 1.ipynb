{
 "cells": [
  {
   "cell_type": "markdown",
   "metadata": {},
   "source": [
    "# MI-SPI - Domácí úkol 1.\n",
    "---\n",
    "#### Skupina: \n",
    "    - Anna Moudrá (moudrann, paralelka 102) - reprezentant\n",
    "    - Vojtěch Polcar (polcavoj, paralelka 108)\n",
    "\n",
    "Nejprve určíme parametry pro výpočet hodnot, které určí soubory pro vypracování úkolů."
   ]
  },
  {
   "cell_type": "code",
   "execution_count": 1,
   "metadata": {},
   "outputs": [],
   "source": [
    "import numpy as np\n",
    "from scipy import stats\n",
    "from scipy.optimize import minimize\n",
    "import pandas as pd\n",
    "import seaborn as sns\n",
    "import matplotlib.pyplot as plt\n",
    "%matplotlib inline"
   ]
  },
  {
   "cell_type": "code",
   "execution_count": 2,
   "metadata": {},
   "outputs": [],
   "source": [
    "k = 16\n",
    "l = 6\n",
    "x = ((k*l*23) % 20 ) +1\n",
    "y = ((x + ((k*5 + l*7) % 19) ) % 20 ) + 1"
   ]
  },
  {
   "cell_type": "code",
   "execution_count": 3,
   "metadata": {},
   "outputs": [
    {
     "name": "stdout",
     "output_type": "stream",
     "text": [
      "Text X: 009.txt\n",
      "Text Y: 018.txt\n"
     ]
    }
   ],
   "source": [
    "str_X = (3 - len(str(x)))*'0'+ str(x) + '.txt'\n",
    "str_Y = (3 - len(str(y)))*'0'+ str(y) + '.txt'\n",
    "\n",
    "print(\"Text X:\",str_X)\n",
    "print(\"Text Y:\",str_Y)"
   ]
  },
  {
   "cell_type": "markdown",
   "metadata": {},
   "source": [
    "---\n",
    "### 1. Z obou datových souborů načtěte texty k analýze. Pro každý text zvlášť odhadněte základní charakteristiky délek slov, tj. střední hodnotu a rozptyl. Graficky znázorněte rozdělení délek slov."
   ]
  },
  {
   "cell_type": "markdown",
   "metadata": {},
   "source": [
    "Oba texty nejrpve načteme a poté rozdělíme na jednotlivá slova. \n",
    "Z délek těchto slov následně vypočítáme odhad střední hodnoty délky slova pomocí vzorce: $$\\overline{X}=\\frac{1}{n}\\displaystyle\\sum_{i=1}^{n}X_{i}$$\n",
    "Pro výpočet bodového odhadu rozptylu jednotlivých délek slov použijeme vzorec: $$s^{2}=\\frac{1}{n-1}\\sum_{i=1}^{n} (X_i - \\overline{X})^{2} $$"
   ]
  },
  {
   "cell_type": "code",
   "execution_count": 4,
   "metadata": {},
   "outputs": [
    {
     "name": "stdout",
     "output_type": "stream",
     "text": [
      "Název prvního textu: The Strange Case Of Dr. Jekyll And Mr. Hyde, by Robert Louis Stevenson\n",
      "\n",
      "Název druhého textu: Dracula, by Bram Stoker\n",
      "\n"
     ]
    }
   ],
   "source": [
    "f = open('./hw1-source/'+str_X, 'r')\n",
    "X_info = f.readline()\n",
    "data_X = f.read()\n",
    "f.close()\n",
    "\n",
    "f = open('./hw1-source/'+str_Y, 'r')\n",
    "Y_info = f.readline()\n",
    "data_Y = f.read()\n",
    "f.close()\n",
    "\n",
    "print(\"Název prvního textu:\",X_info)\n",
    "print(\"Název druhého textu:\",Y_info)"
   ]
  },
  {
   "cell_type": "markdown",
   "metadata": {},
   "source": [
    "### Dataset X"
   ]
  },
  {
   "cell_type": "code",
   "execution_count": 5,
   "metadata": {},
   "outputs": [
    {
     "name": "stdout",
     "output_type": "stream",
     "text": [
      "Odhad střední hodnoty EX: 4.2622641509433965\n",
      "Bodový odhad rozptylu var(X): 4.99064264970511\n"
     ]
    }
   ],
   "source": [
    "words_x = data_X.split(\" \") #rozdelime text na slova\n",
    "lengths_x = [len(x) for x in words_x] #spocteme delky jednotlivych slov\n",
    "\n",
    "pd_x = pd.DataFrame() #ulozime obe hodnoty do dataframu\n",
    "pd_x['len'] = lengths_x\n",
    "pd_x['words'] = words_x\n",
    "\n",
    "EX = 1/len(words_x)*sum(lengths_x)\n",
    "print(\"Odhad střední hodnoty EX:\",EX)\n",
    "\n",
    "varX = (1/(len(words_x) -1))*sum([(x - EX)**2 for x in lengths_x])\n",
    "print(\"Bodový odhad rozptylu var(X):\",varX)"
   ]
  },
  {
   "cell_type": "markdown",
   "metadata": {},
   "source": [
    "### Dataset Y"
   ]
  },
  {
   "cell_type": "code",
   "execution_count": 6,
   "metadata": {},
   "outputs": [
    {
     "name": "stdout",
     "output_type": "stream",
     "text": [
      "Odhad střední hodnoty EY: 4.214814814814815\n",
      "Bodový odhad rozptylu var(Y): 4.932495795146393\n"
     ]
    }
   ],
   "source": [
    "words_y = data_Y.split(\" \")\n",
    "lengths_y = [len(x) for x in words_y]\n",
    "\n",
    "pd_y = pd.DataFrame()\n",
    "pd_y['len'] = lengths_y\n",
    "pd_y['words'] = words_y\n",
    "\n",
    "EY = 1/len(words_y)*sum(lengths_y)\n",
    "print(\"Odhad střední hodnoty EY:\",EY)\n",
    "\n",
    "varY = (1/(len(words_y) -1))*sum([(x - EY)**2 for x in lengths_y])\n",
    "print(\"Bodový odhad rozptylu var(Y):\",varY)"
   ]
  },
  {
   "cell_type": "markdown",
   "metadata": {},
   "source": [
    "#### Grafické znázornění rozdělení délek slov v datasetech X a Y."
   ]
  },
  {
   "cell_type": "code",
   "execution_count": 7,
   "metadata": {},
   "outputs": [],
   "source": [
    "colors = [\"#3778bf\",\"#feb308\"]"
   ]
  },
  {
   "cell_type": "code",
   "execution_count": 8,
   "metadata": {},
   "outputs": [
    {
     "data": {
      "image/png": "[encoded data removed]",
      "text/plain": [
       "<Figure size 1008x360 with 1 Axes>"
      ]
     },
     "metadata": {
      "needs_background": "light"
     },
     "output_type": "display_data"
    }
   ],
   "source": [
    "pd_xy = pd.DataFrame(pd_x)\n",
    "pd_xy['type'] = 'X'\n",
    "pd_xy = pd_xy.append(pd_y, sort=False)\n",
    "\n",
    "pd_xy['type'].fillna('Y', inplace=True)\n",
    "\n",
    "plt.figure(figsize=(14,5))\n",
    "cnt = sns.countplot(x ='len', hue='type', data=pd_xy, palette=colors, saturation=1)\n",
    "ey = plt.vlines(x=EY-1, ymin=0, ymax=250, linestyles='dashed', color=\"orangered\")\n",
    "ex = plt.vlines(x=EX-1, ymin=0, ymax=250, linestyles='dashed', color=\"darkblue\")\n",
    "plt.title(\"Rozdělení délek slov v textech X a Y\"),plt.xlabel(\"délka slova\"),plt.ylabel(\"počet slov\")\n",
    "legend1 = plt.legend(loc='upper right')\n",
    "plt.legend([ex,ey],[\"EX\", \"EY\"]),plt.gca().add_artist(legend1)\n",
    "plt.show()"
   ]
  },
  {
   "cell_type": "markdown",
   "metadata": {},
   "source": [
    "#### Diskuze k výsledku\n",
    "Texty z obou vybraných knih jsou z konce 19. století od autorů z Britských ostrovů. Můžeme očekávat, že rozdělení slov a jejich použití bude podobné. Tuto skutečnost nám potvrzuje odhad střední hodnoty a rozptylu a následné grafické zobrazení délek slov. V něm vidíme, že jediný větší rozdíl nastává u slov délek 3 a 4."
   ]
  },
  {
   "cell_type": "markdown",
   "metadata": {},
   "source": [
    "---\n",
    "### 2. Pro každý text zvlášť odhadněte pravděpodobnosti písmen (symbolů mimo mezery), které se v textech vyskytují. Výsledné pravděpodobnosti graficky znázorněte."
   ]
  },
  {
   "cell_type": "markdown",
   "metadata": {},
   "source": [
    "Pravděpodobnosti výskytu jednotlivých písmen získáme tak, že nejdříve z textů odstraníme všechny mezery a nasčítáme počet jednotlivých písmen v textech."
   ]
  },
  {
   "cell_type": "code",
   "execution_count": 9,
   "metadata": {},
   "outputs": [],
   "source": [
    "x_nospaces = data_X.replace(\" \", \"\")\n",
    "y_nospaces = data_Y.replace(\" \", \"\")"
   ]
  },
  {
   "cell_type": "code",
   "execution_count": 10,
   "metadata": {},
   "outputs": [
    {
     "name": "stdout",
     "output_type": "stream",
     "text": [
      "(array(['a', 'b', 'c', 'd', 'e', 'f', 'g', 'h', 'i', 'j', 'k', 'l', 'm',\n",
      "       'n', 'o', 'p', 'q', 'r', 's', 't', 'u', 'v', 'w', 'x', 'y'],\n",
      "      dtype='<U1'), array([366,  65, 105, 205, 561, 102,  87, 276, 279,   7,  37, 194, 109,\n",
      "       344, 357,  65,   8, 260, 284, 447, 111,  34, 118,   2,  95]))\n",
      "(array(['a', 'b', 'c', 'd', 'e', 'f', 'g', 'h', 'i', 'j', 'k', 'l', 'm',\n",
      "       'n', 'o', 'p', 'q', 'r', 's', 't', 'u', 'v', 'w', 'x', 'y', 'z'],\n",
      "      dtype='<U1'), array([391,  69,  94, 171, 542, 104,  96, 281, 300,   6,  45, 169, 136,\n",
      "       278, 341,  72,   4, 299, 290, 468, 117,  52, 118,   8,  96,   5]))\n"
     ]
    }
   ],
   "source": [
    "x_uni = np.array(list(x_nospaces[:]))\n",
    "x_uni = np.unique(x_uni, return_counts=True)\n",
    "print(x_uni)\n",
    "\n",
    "y_uni = np.array(list(y_nospaces[:]))\n",
    "y_uni = np.unique(y_uni, return_counts=True)\n",
    "print(y_uni)"
   ]
  },
  {
   "cell_type": "markdown",
   "metadata": {},
   "source": [
    "Následně výsledné součty (x_uni a y_uni) vydělíme celkovým počtem všech písmen (pro každý text zvlášť)."
   ]
  },
  {
   "cell_type": "code",
   "execution_count": 11,
   "metadata": {},
   "outputs": [],
   "source": [
    "chars_xy = pd.DataFrame()\n",
    "chars_xy['char'] = x_uni[0]\n",
    "chars_xy['count'] = x_uni[1]\n",
    "chars_xy['prob'] = chars_xy['count']/(np.sum(x_uni[1]))\n",
    "chars_xy['type'] = 'X'\n",
    "chars_tmp = pd.DataFrame()\n",
    "chars_tmp['char'] = y_uni[0]\n",
    "chars_tmp['count'] = y_uni[1]\n",
    "chars_tmp['prob'] = chars_tmp['count']/(np.sum(y_uni[1]))\n",
    "chars_xy = chars_xy.append(chars_tmp, sort=False)\n",
    "chars_xy['type'].fillna('Y',  inplace=True)"
   ]
  },
  {
   "cell_type": "code",
   "execution_count": 12,
   "metadata": {
    "scrolled": true
   },
   "outputs": [
    {
     "data": {
      "image/png": "[encoded data removed]",
      "text/plain": [
       "<Figure size 1008x360 with 1 Axes>"
      ]
     },
     "metadata": {
      "needs_background": "light"
     },
     "output_type": "display_data"
    }
   ],
   "source": [
    "plt.figure(figsize=(14,5))\n",
    "sns.barplot(x='char', y='prob', hue='type', data=chars_xy, palette=colors, saturation=1)\n",
    "plt.title(\"Rozdělení znaků v textech X a Y\"),plt.xlabel(\"znak\"),plt.ylabel(\"pravděpodobnost výskytu\")\n",
    "plt.legend(loc='upper right')\n",
    "plt.show()"
   ]
  },
  {
   "cell_type": "markdown",
   "metadata": {},
   "source": [
    "#### Diskuze k výsledku\n",
    "V grafu můžeme vidět výskyt pravděpodobnost výskytu písmen v jednotlivých textech. Protože se jedná o anglické texty ze stejného období, je i pravděpodobnost výskytu písmen velmi podobná. Nejčastějšími znaky v anglickém jazyce jsou písmena e, t, a - tuto skutečnost graf také potvrzuje."
   ]
  },
  {
   "cell_type": "markdown",
   "metadata": {},
   "source": [
    "## Hypotézy\n"
   ]
  },
  {
   "cell_type": "markdown",
   "metadata": {},
   "source": [
    "---\n",
    "### 3. Na hladině významnosti 5% otestujte hypotézu, že rozdělení délek slov nezávisí na tom, o který jde text. Určete také p-hodnotu testu.\n",
    "V úloze si nejprve vytvoříme kontingenční tabulku z četností jednotlivých délek slov a poté provedem $\\chi^{2}$ nezávislosti. Na hladině významnosti $5\\%$ budeme testovat hypotézu:\n",
    "- Rozdělení se rovnají: $H_0$: $p_{i,j} = p_{i\\bullet}p_{\\bullet j}$                      \n",
    "- Rozdělení jsou rozdílná: $H_A$: $p_{i,j} \\neq p_{i\\bullet}p_{\\bullet j}$                      "
   ]
  },
  {
   "cell_type": "code",
   "execution_count": 13,
   "metadata": {},
   "outputs": [
    {
     "name": "stdout",
     "output_type": "stream",
     "text": [
      "Maximální délka slova v X: 13\n",
      "Maximální délká slova v Y: 15\n",
      "Tabulka četností slov různých délek:\n",
      " [[ 40 186 270 175 125  93  70  41  32  13   9   2   3   0   1]\n",
      " [ 53 199 226 214 140  78  74  41  26  11  10   5   3   0   0]]\n"
     ]
    }
   ],
   "source": [
    "print(\"Maximální délka slova v X:\", pd_xy[pd_xy.type == \"Y\"].len.max())\n",
    "print(\"Maximální délká slova v Y:\", pd_xy[pd_xy.type == \"X\"].len.max())\n",
    "\n",
    "delky = range(1, max(pd_xy[pd_xy.type == \"Y\"].len.max(), pd_xy[pd_xy.type == \"X\"].len.max())+1)\n",
    "\n",
    "textX = [pd_xy[(pd_xy.type == \"X\") & (pd_xy.len == i)].count()[0] for i in delky]\n",
    "textY = [pd_xy[(pd_xy.type == \"Y\") & (pd_xy.len == i)].count()[0] for i in delky]\n",
    "\n",
    "N = np.matrix([textX,textY])\n",
    "print(\"Tabulka četností slov různých délek:\\n\",N)"
   ]
  },
  {
   "cell_type": "code",
   "execution_count": 14,
   "metadata": {},
   "outputs": [],
   "source": [
    "def getNpp(M, n):\n",
    "    print('Celková suma: n = ',n)\n",
    "    \n",
    "    # Odhady marginálních pravděpodobností (parametrů)\n",
    "    pbj = np.sum(M, axis = 0)/n\n",
    "    pbi = np.sum(M, axis = 1)/n\n",
    "    #print('(X a Y) p_ib = ', pbi.reshape((-1,)))\n",
    "    #print('(cetnosti delek) p_bj = ', pbj)\n",
    "    \n",
    "    # Výpočet teoretických četností\n",
    "    tab_p = pbi@pbj\n",
    "    npp = tab_p*n\n",
    "    print('\\nTeoretické četnosti n*tab_p:\\n', npp)\n",
    "    return npp\n",
    "    "
   ]
  },
  {
   "cell_type": "code",
   "execution_count": 15,
   "metadata": {},
   "outputs": [
    {
     "name": "stdout",
     "output_type": "stream",
     "text": [
      "Celková suma: n =  2140\n",
      "\n",
      "Teoretické četnosti n*tab_p:\n",
      " [[ 46.06542056 190.70093458 245.68224299 192.68224299 131.26168224\n",
      "   84.70093458  71.3271028   40.61682243  28.72897196  11.88785047\n",
      "    9.41121495   3.46728972   2.97196262   0.           0.4953271 ]\n",
      " [ 46.93457944 194.29906542 250.31775701 196.31775701 133.73831776\n",
      "   86.29906542  72.6728972   41.38317757  29.27102804  12.11214953\n",
      "    9.58878505   3.53271028   3.02803738   0.           0.5046729 ]]\n"
     ]
    }
   ],
   "source": [
    "s = pd_xy['words'].count()\n",
    "npp = getNpp(N, s)"
   ]
  },
  {
   "cell_type": "markdown",
   "metadata": {},
   "source": [
    "Z tabulky teoretických četností je vidět, že některá pole nesplňují doporučenou podmínku:$$\\forall{i,j}: \\dfrac{N_i\\bullet N_{\\bullet j}}{n} \\geq 5.$$\n",
    "Proto jsme se rozhodli zmenšit počet binů $k$, dokud tato podmínka nebude platit. "
   ]
  },
  {
   "cell_type": "code",
   "execution_count": 16,
   "metadata": {},
   "outputs": [],
   "source": [
    "def getMergeCols(M):\n",
    "    columns = set()\n",
    "    for i in range(M.shape[0]):\n",
    "        for j in range(M.shape[1]):\n",
    "            if(M[i, j] < 5.0):\n",
    "                #print(M[i, j])\n",
    "                columns.add(j)\n",
    "    print(\"Sloupce nesplňující podmínku:\",columns)\n",
    "    return columns\n",
    "    \n",
    "\n",
    "def checkMatrixCondition(oldN, oldnpp, n):\n",
    "    merge_cols = getMergeCols(oldnpp)\n",
    "    if(len(merge_cols) == 1):\n",
    "        merge_cols.add(min(merge_cols)-1)\n",
    "    min_col = min(merge_cols) ## shlukneme sloupce co nesplnuji podminku do jednoho s nejmensim indexem\n",
    "    merge_cols.remove(min_col)\n",
    "\n",
    "    for j in range(oldN.shape[1]):\n",
    "        if(j in merge_cols):\n",
    "            oldN[:,min_col] += oldN[:, j]\n",
    "            \n",
    "    cols = [ x for x in range(0,oldN.shape[1]) if x not in merge_cols]\n",
    "    newN = oldN[:, cols]\n",
    "    newnpp = getNpp(newN, n)\n",
    "    \n",
    "    merge_cols = getMergeCols(newnpp)\n",
    "    if(len(merge_cols) > 0):\n",
    "        newN, newnpp = checkMatrixCondition(newN, newnpp, n)\n",
    "    return newN, newnpp"
   ]
  },
  {
   "cell_type": "code",
   "execution_count": 17,
   "metadata": {},
   "outputs": [
    {
     "name": "stdout",
     "output_type": "stream",
     "text": [
      "Sloupce nesplňující podmínku: {11, 12, 13, 14}\n",
      "Celková suma: n =  2140\n",
      "\n",
      "Teoretické četnosti n*tab_p:\n",
      " [[ 46.06542056 190.70093458 245.68224299 192.68224299 131.26168224\n",
      "   84.70093458  71.3271028   40.61682243  28.72897196  11.88785047\n",
      "    9.41121495   6.93457944]\n",
      " [ 46.93457944 194.29906542 250.31775701 196.31775701 133.73831776\n",
      "   86.29906542  72.6728972   41.38317757  29.27102804  12.11214953\n",
      "    9.58878505   7.06542056]]\n",
      "Sloupce nesplňující podmínku: set()\n",
      "\n",
      "Stará tabulka četností\n",
      " [[ 40 186 270 175 125  93  70  41  32  13   9   2   3   0   1]\n",
      " [ 53 199 226 214 140  78  74  41  26  11  10   5   3   0   0]]\n",
      "\n",
      "Nová tabulka četností\n",
      " [[ 40 186 270 175 125  93  70  41  32  13   9   6]\n",
      " [ 53 199 226 214 140  78  74  41  26  11  10   8]]\n"
     ]
    }
   ],
   "source": [
    "oldN = N.copy()\n",
    "oldnpp = npp.copy()\n",
    "N, npp = checkMatrixCondition(N,npp, s)\n",
    "\n",
    "print(\"\\nStará tabulka četností\\n\",oldN)\n",
    "print(\"\\nNová tabulka četností\\n\",N)"
   ]
  },
  {
   "cell_type": "markdown",
   "metadata": {},
   "source": [
    "#### Testová statistika\n",
    "Z dat jsme vytvořili novou tabulku četností nad kterou provedeme test nezávislosti dle vzorce: \n",
    "$$ \\chi^{2}  = \\sum_{i=1}^{r} \\sum_{j=1}^{c} \\frac{(N_{ij} - \\frac{ N_{i\\bullet}N_{\\bullet j}}{n})}{\\frac{ N_{i\\bullet}N_{\\bullet j}}{n} } $$\n",
    "Počet stupňů volnosti počítáme jako: $(\\#$řádků$ - 1) * (\\#$sloupců$ - 1)$.\n",
    "\n",
    "Výpočet kritické hodnoty: $ \\chi_{\\alpha,(r-1)(c-1)}^{2}$\n",
    "\n",
    "Podmínka dle které zamítáme $H_0$ zní: $ \\chi^{2} \\geq \\chi_{\\alpha,(r-1)(c-1)}^{2}$\n",
    "\n",
    "Pomocí statistický funkcí vypočítáme výše zmíněné hodnoty a provedeme test hypotézy."
   ]
  },
  {
   "cell_type": "code",
   "execution_count": 18,
   "metadata": {},
   "outputs": [
    {
     "name": "stdout",
     "output_type": "stream",
     "text": [
      "\n",
      "Testová statistika: Chi^2 =  13.285320732012462\n",
      "Stupně volnosti: 11\n",
      "Kritická hodnota: 19.67513757268249\n"
     ]
    }
   ],
   "source": [
    "# Statistika\n",
    "chi = np.sum(np.square(N - npp)/(npp))\n",
    "print('\\nTestová statistika: Chi^2 = ', chi)\n",
    "\n",
    "df = ((N.shape[0] - 1 )*(N.shape[1] - 1) )\n",
    "print(\"Stupně volnosti:\", df)\n",
    "print('Kritická hodnota:', stats.chi2.isf(0.05, df))"
   ]
  },
  {
   "cell_type": "code",
   "execution_count": 19,
   "metadata": {},
   "outputs": [
    {
     "name": "stdout",
     "output_type": "stream",
     "text": [
      "\n",
      "Výsledek podmínky zamítnutí: False\n",
      "\n",
      "Hodnota testové statistiky:  13.285320732012455\n",
      "p-hodnota: 0.2750867825892949\n"
     ]
    }
   ],
   "source": [
    "# výsledek testu\n",
    "print(\"\\nVýsledek podmínky zamítnutí:\",chi >= stats.chi2.isf(0.05, df))\n",
    "\n",
    "# Pomocí funkce\n",
    "s, p, d, e = stats.chi2_contingency(N, correction = False)\n",
    "print(\"\\nHodnota testové statistiky: \", s)\n",
    "print(\"p-hodnota:\", p)"
   ]
  },
  {
   "cell_type": "markdown",
   "metadata": {},
   "source": [
    "#### Diskuze k výsledku\n",
    "Výsledek podmínky zamítnutí je negativní, protože **neplatí** $ \\chi^{2} \\geq \\chi_{0.05,12}^{2} $ a tím pádem jsou délky slov nezávislé na tom, ze kterého textu pochází (nezamítáme $H_0$). Výsledek testu jsme mohli předpokládat kvůli faktu, že jsou oba texty ze stejného období (1886 a 1897)."
   ]
  },
  {
   "cell_type": "code",
   "execution_count": 20,
   "metadata": {},
   "outputs": [
    {
     "name": "stdout",
     "output_type": "stream",
     "text": [
      "Neupravená tabulka bez nulových sloupců: [[ 40 186 270 175 125  93  70  41  32  13   9   2   3   1]\n",
      " [ 53 199 226 214 140  78  74  41  26  11  10   5   3   0]]\n",
      "\n",
      "Testová statistika (old): Chi^2 =  15.285495435017353\n",
      "Stupně volnosti: 13\n",
      "Kritická hodnota: 22.362032494826945\n",
      "\n",
      "Výsledek podmínky zamítnutí (oldN): False\n",
      "\n",
      "Hodnota testové statistiky:  15.285495435017346\n",
      "p-hodnota: 0.28987054391678296\n"
     ]
    }
   ],
   "source": [
    "## vysledky na neupravene matici oldN\n",
    "# dropneme 14. sloupec s nulama\n",
    "testN = oldN[:, [0,1,2,3,4,5,6,7,8,9,10,11,12,14]]\n",
    "testnpp = oldnpp[:, [0,1,2,3,4,5,6,7,8,9,10,11,12,14]]\n",
    "print(\"Neupravená tabulka bez nulových sloupců:\",testN)\n",
    "\n",
    "chi = np.sum(np.square(testN - testnpp)/(testnpp))\n",
    "print('\\nTestová statistika (old): Chi^2 = ', chi)\n",
    "\n",
    "df = ((testN.shape[0] - 1 )*(testN.shape[1] - 1) )\n",
    "print(\"Stupně volnosti:\", df)\n",
    "print('Kritická hodnota:', stats.chi2.isf(0.05, df))\n",
    "# výsledek testu\n",
    "print(\"\\nVýsledek podmínky zamítnutí (oldN):\",chi >= stats.chi2.isf(0.05, df))\n",
    "\n",
    "# Pomocí funkce\n",
    "s, p, d, e = stats.chi2_contingency(testN, correction = False)\n",
    "print(\"\\nHodnota testové statistiky: \", s)\n",
    "print(\"p-hodnota:\", p)"
   ]
  },
  {
   "cell_type": "markdown",
   "metadata": {},
   "source": [
    "Výsledek testu na původních datech dopadl stejně, tedy příliš malé hodnoty některých očekávaných hodnot zde neměly vliv na konečný výsledek testu."
   ]
  },
  {
   "cell_type": "markdown",
   "metadata": {},
   "source": [
    "---\n",
    "### 4. Na hladině významnosti 5% otestujte hypotézu, že se střední délky slov v obou textech rovnají. Určete také p-hodnotu testu.\n",
    " \n",
    "Na hladině významnosti $5\\%$ budeme testovat hypotézu $H_0$, že se střední délky slov v obou textech rovnají. Jedná se o dva nezávislé texty (skupiny), takže provedeme dvouvýběrový test.\n",
    "\n",
    "Nejprve provedeme F-Test na rovnost rozptylů obou textů, podle kterého následně provedeme dvouvýběrový test podle stejných nebo různých rozptylů.\n",
    "\n",
    "Chceme otestovat hypotézu: $ \\sigma_{1}^{2} = \\sigma_{2}^{2} $, proti alternativě $ \\sigma_{1}^{2} \\neq \\sigma_{2}^{2} $. K tomu využije testovou statistiku $ T = \\frac{s_{X}^2}{s_{Y}^2}$, případně i Bartlettův a Levenův test."
   ]
  },
  {
   "cell_type": "code",
   "execution_count": 21,
   "metadata": {},
   "outputs": [
    {
     "name": "stdout",
     "output_type": "stream",
     "text": [
      "Testová statistika (F-test): 1.0117885259255435\n",
      "F-test p-hodnota: 0.8479539146201472\n",
      "Bartlett stat: 0.03668717501416687 Bartlett p_val:  0.8481033561510454\n",
      "Levene stat: 0.30298631365647144 Levene p_val:  0.5820738029669725\n"
     ]
    }
   ],
   "source": [
    "# Test shodnosti rozptylů\n",
    "n = len(words_x) \n",
    "m = len(words_y)\n",
    "\n",
    "T = varX / varY\n",
    "print(\"Testová statistika (F-test):\", T)\n",
    "p_cdf = stats.f.cdf(T, n-1, m-1)\n",
    "#funkce preziti\n",
    "p_value = 2*stats.f.sf(T, n-1, m-1)\n",
    "print(\"F-test p-hodnota:\", p_value)\n",
    "\n",
    "#pro ne-Normalni rozdeleni X a Y \n",
    "import scipy.stats\n",
    "x_samples = lengths_x[:]\n",
    "y_samples = lengths_y[:]\n",
    "B,p = scipy.stats.bartlett(x_samples, y_samples)\n",
    "print(\"Bartlett stat:\",B, \"Bartlett p_val: \",p)\n",
    "L,p = scipy.stats.levene(x_samples, y_samples)\n",
    "print(\"Levene stat:\",L, \"Levene p_val: \",p)"
   ]
  },
  {
   "cell_type": "markdown",
   "metadata": {},
   "source": [
    "Rozptyly budeme předpokládat stejné, protože p-hodnota pro zamítnutí je ve všech testech vysoká, tedy $H_0$ nezamítáme. V Levenově testu nám vyšel odhad p hodnoty na 58%, což už se blíží k pravděpodobnosti 50:50, že se rozptyly liší. Proto můžeme čistě pro kontrolu provést i \"slabší\" test pro různé rozptyly a podívat se, jestli náhodou nevyjde jinak (nevyjde)."
   ]
  },
  {
   "cell_type": "code",
   "execution_count": 22,
   "metadata": {},
   "outputs": [
    {
     "name": "stdout",
     "output_type": "stream",
     "text": [
      "Hodnota testové statistiky: T =  0.49268194278264094\n",
      "Kritická hodnota: t =  1.961074847269533\n",
      "Zamítáme:  False\n",
      "p-hodnota:  0.6222879604666979\n"
     ]
    }
   ],
   "source": [
    "# T-test se ruznymi rozptyly\n",
    "sd = np.sqrt( varX/n + varY/m )\n",
    "T = ((pd_x['len'].mean() - pd_y['len'].mean())/sd )\n",
    "\n",
    "print(\"Hodnota testové statistiky: T = \", T)\n",
    "\n",
    "nd = sd**4 / ( (1/(n-1))*((varX/n)**2) + (1/(m-1))*((varY/m)**2) )\n",
    "\n",
    "krit = stats.t.isf(0.05/2, df = nd)\n",
    "print(\"Kritická hodnota: t = \", krit)\n",
    "\n",
    "#Výsledek testu\n",
    "print('Zamítáme: ', np.abs(T) >= krit)\n",
    "\n",
    "#P-hodnota\n",
    "p_value=2*stats.t.sf(np.abs(T), df = nd)\n",
    "print(\"p-hodnota: \", p_value)"
   ]
  },
  {
   "cell_type": "markdown",
   "metadata": {},
   "source": [
    "Protože uvažujeme stejnou hodnotu rozptylů, budeme na hladině významnosti $5\\%$ testovat hypotézu:\n",
    "- $H_0$ - $ \\mu_{1} = \\mu_{2} $, že se střední délky slov v obou textech rovnají, proti alternativě\n",
    "- $H_A$ - $ \\mu_{1} \\neq \\mu_{2} $, že se střední délky slov v obou textech nerovnají.\n",
    "\n",
    "Využijeme testovou statistiku T:\n",
    "$$ T = \\frac{\\overline{X}_n - \\overline{Y}_m}{s_{12}} \\sqrt{\\frac{nm}{n+m}}$$,\n",
    "kde $$ s_{12} = \\sqrt{\\frac{(n-1)s_{X}^2 + (m-1)s_{Y}^2}{n+m-2}} $$\n",
    "s kritickým oborem $ |T| \\geq t_{\\alpha/2,n+m-2}$."
   ]
  },
  {
   "cell_type": "code",
   "execution_count": 23,
   "metadata": {},
   "outputs": [
    {
     "name": "stdout",
     "output_type": "stream",
     "text": [
      "Hodnota testové statistiky: T =  0.492708937267016\n",
      "Kritická hodnota: t =  1.9610741772191844\n",
      "Zamítáme:  False\n",
      "p-hodnota: 0.6222688564504562\n"
     ]
    }
   ],
   "source": [
    "# T-test se stejnými rozptyly\n",
    "s12 = np.sqrt(((n-1)*varX + (m-1)*varY)/(n+m-2))\n",
    "T = (EX - EY)/s12*np.sqrt(n*m/(n+m))\n",
    "\n",
    "print(\"Hodnota testové statistiky: T = \", T)\n",
    "\n",
    "krit = stats.t.isf(0.05/2, df = n+m-2)\n",
    "print(\"Kritická hodnota: t = \", krit)\n",
    "\n",
    "# výsledek testu\n",
    "print(\"Zamítáme: \",np.abs(T) >= krit)\n",
    "\n",
    "# p-hodnota\n",
    "p_value = 2*stats.t.sf(np.abs(T), df = n + m -2)\n",
    "print(\"p-hodnota:\", p_value)"
   ]
  },
  {
   "cell_type": "markdown",
   "metadata": {},
   "source": [
    "#### Diskuze k výsledku\n",
    "Dle podmínky zamínutí $ |T| \\geq t_{0.025,2138} $ je výsledkem nezamítnutí $H_0$, tedy střední délka slov se v obou textech rovná. Toto tvrzení opět potvrzuje velkou podobnost ve vybraných textech, stejně jako v ostatních úlohách."
   ]
  },
  {
   "cell_type": "markdown",
   "metadata": {},
   "source": [
    "---\n",
    "### 5. Na hladině významnosti 5% otestujte hypotézu, že rozdělení písmen nezávisí na tom, o který jde text. Určete také p-hodnotu testu.\n",
    "Stejně jako v úloze 3. si nejprve vytvoříme kontingenční tabulku. Vytvoříme ji z četností jednotlivých písmen a poté provedem $\\chi^{2}$ nezávislosti. Na hladině významnosti $5\\%$ budeme testovat hypotézy:\n",
    "- Rozdělení jsou stejná: $H_0$ - $p_{i,j} = p_{i\\bullet}p_{\\bullet j}$\n",
    "- Rozdělení se liší: $H_A$ - $p_{i,j} \\neq p_{i\\bullet}p_{\\bullet j}$"
   ]
  },
  {
   "cell_type": "code",
   "execution_count": 24,
   "metadata": {},
   "outputs": [
    {
     "name": "stdout",
     "output_type": "stream",
     "text": [
      "Tabulka četností znaků:\n",
      " [[366  65 105 205 561 102  87 276 279   7  37 194 109 344 357  65   8 260\n",
      "  284 447 111  34 118   2  95   0]\n",
      " [391  69  94 171 542 104  96 281 300   6  45 169 136 278 341  72   4 299\n",
      "  290 468 117  52 118   8  96   5]]\n"
     ]
    }
   ],
   "source": [
    "abeceda = list(map(chr, range(97, 123)))\n",
    "\n",
    "textX = [ x_nospaces.count(a) for a in abeceda ]\n",
    "textY = [ y_nospaces.count(a) for a in abeceda ]\n",
    "\n",
    "Nchar = np.matrix([textX,textY])\n",
    "print(\"Tabulka četností znaků:\\n\",Nchar)"
   ]
  },
  {
   "cell_type": "code",
   "execution_count": 25,
   "metadata": {
    "scrolled": true
   },
   "outputs": [
    {
     "name": "stdout",
     "output_type": "stream",
     "text": [
      "Celková suma: n =  9070\n",
      "\n",
      "Teoretické četnosti n*tab_p:\n",
      " [[377.08114664  66.74884234  99.12701213 187.2952591  549.43263506\n",
      "  102.61389195  91.1570011  277.45600882 288.41477398   6.47563396\n",
      "   40.8463065  180.81962514 122.04079383 309.83417861 347.69173098\n",
      "   68.2432194    5.97750827 278.4522602  285.92414553 455.78500551\n",
      "  113.57265711  42.83880926 117.55766262   4.98125689  95.14200662\n",
      "    2.49062845]\n",
      " [379.91885336  67.25115766  99.87298787 188.7047409  553.56736494\n",
      "  103.38610805  91.8429989  279.54399118 290.58522602   6.52436604\n",
      "   41.1536935  182.18037486 122.95920617 312.16582139 350.30826902\n",
      "   68.7567806    6.02249173 280.5477398  288.07585447 459.21499449\n",
      "  114.42734289  43.16119074 118.44233738   5.01874311  95.85799338\n",
      "    2.50937155]]\n"
     ]
    }
   ],
   "source": [
    "s = chars_xy['count'].sum()\n",
    "nppchar = getNpp(Nchar, s)"
   ]
  },
  {
   "cell_type": "markdown",
   "metadata": {},
   "source": [
    "Opět sloučíme některé sloupce abychom splnili doporučené očekávané hodnoty.\n"
   ]
  },
  {
   "cell_type": "code",
   "execution_count": 26,
   "metadata": {},
   "outputs": [
    {
     "name": "stdout",
     "output_type": "stream",
     "text": [
      "Sloupce nesplňující podmínku: {25, 23}\n",
      "Celková suma: n =  9070\n",
      "\n",
      "Teoretické četnosti n*tab_p:\n",
      " [[377.08114664  66.74884234  99.12701213 187.2952591  549.43263506\n",
      "  102.61389195  91.1570011  277.45600882 288.41477398   6.47563396\n",
      "   40.8463065  180.81962514 122.04079383 309.83417861 347.69173098\n",
      "   68.2432194    5.97750827 278.4522602  285.92414553 455.78500551\n",
      "  113.57265711  42.83880926 117.55766262   7.47188534  95.14200662]\n",
      " [379.91885336  67.25115766  99.87298787 188.7047409  553.56736494\n",
      "  103.38610805  91.8429989  279.54399118 290.58522602   6.52436604\n",
      "   41.1536935  182.18037486 122.95920617 312.16582139 350.30826902\n",
      "   68.7567806    6.02249173 280.5477398  288.07585447 459.21499449\n",
      "  114.42734289  43.16119074 118.44233738   7.52811466  95.85799338]]\n",
      "Sloupce nesplňující podmínku: set()\n",
      "\n",
      "Stará tabulka četností\n",
      " [[366  65 105 205 561 102  87 276 279   7  37 194 109 344 357  65   8 260\n",
      "  284 447 111  34 118   2  95   0]\n",
      " [391  69  94 171 542 104  96 281 300   6  45 169 136 278 341  72   4 299\n",
      "  290 468 117  52 118   8  96   5]]\n",
      "\n",
      "Nová tabulka četností\n",
      " [[366  65 105 205 561 102  87 276 279   7  37 194 109 344 357  65   8 260\n",
      "  284 447 111  34 118   2  95]\n",
      " [391  69  94 171 542 104  96 281 300   6  45 169 136 278 341  72   4 299\n",
      "  290 468 117  52 118  13  96]]\n"
     ]
    }
   ],
   "source": [
    "oldNchar = Nchar.copy()\n",
    "oldnppchar = nppchar.copy()\n",
    "Nchar, nppchar = checkMatrixCondition(Nchar,nppchar,s)\n",
    "\n",
    "print(\"\\nStará tabulka četností\\n\",oldNchar)\n",
    "print(\"\\nNová tabulka četností\\n\",Nchar)"
   ]
  },
  {
   "cell_type": "markdown",
   "metadata": {},
   "source": [
    "#### Testová statistika\n",
    "Z dat jsme vytvořili novou tabulku četností nad kterou provedeme test nezávislosti dle vzorce: \n",
    "$$ \\chi^{2}  = \\sum_{i=1}^{r} \\sum_{j=1}^{c} \\frac{(N_{ij} - \\frac{ N_{i\\bullet}N_{\\bullet j}}{n})}{\\frac{ N_{i\\bullet}N_{\\bullet j}}{n} } $$\n",
    "Počet stupňů volnosti počítáme jako: $(\\#$ řádků $- 1) * (\\#$ sloupců $- 1)$.\n",
    "\n",
    "Výpočet kritické hodnoty: $ \\chi_{\\alpha,(r-1)(c-1)}^{2}$\n",
    "\n",
    "Podmínka dle které zamítáme $H_0$ zní: $ \\chi^{2} \\geq \\chi_{\\alpha,(r-1)(c-1)}^{2}$\n",
    "\n",
    "Pomocí statistický funkcí vypočítáme výše zmíněné hodnoty a provedeme test hypotézy."
   ]
  },
  {
   "cell_type": "code",
   "execution_count": 27,
   "metadata": {},
   "outputs": [
    {
     "name": "stdout",
     "output_type": "stream",
     "text": [
      "\n",
      "Testová statistika: Chi^2 =  35.97497553614714\n",
      "Stupně volnosti: 24\n",
      "Kritická hodnota: 36.415028501807306\n"
     ]
    }
   ],
   "source": [
    "# Statistika\n",
    "chi = np.sum(np.square(Nchar - nppchar)/(nppchar))\n",
    "print('\\nTestová statistika: Chi^2 = ', chi)\n",
    "\n",
    "df = ((Nchar.shape[0] - 1 )*(Nchar.shape[1] - 1) )\n",
    "print(\"Stupně volnosti:\", df)\n",
    "print('Kritická hodnota:', stats.chi2.isf(0.05, df))"
   ]
  },
  {
   "cell_type": "code",
   "execution_count": 28,
   "metadata": {},
   "outputs": [
    {
     "name": "stdout",
     "output_type": "stream",
     "text": [
      "\n",
      "Výsledek podmínky zamítnutí: False\n",
      "\n",
      "Hodnota testové statistiky:  35.97497553614716\n",
      "p-hodnota: 0.055194986435978484\n"
     ]
    }
   ],
   "source": [
    "# výsledek testu\n",
    "print(\"\\nVýsledek podmínky zamítnutí:\",chi >= stats.chi2.isf(0.05, df))\n",
    "\n",
    "# Pomocí funkce\n",
    "s, p, d, e = stats.chi2_contingency(Nchar, correction = False)\n",
    "print(\"\\nHodnota testové statistiky: \", s)\n",
    "print(\"p-hodnota:\", p)"
   ]
  },
  {
   "cell_type": "markdown",
   "metadata": {},
   "source": [
    "#### Diskuze k výsledku\n",
    "Výsledek podmínky zamítnutí je negativní, protože **neplatí** $ \\chi^{2} \\geq \\chi_{0.05,24}^{2} $ a tím pádem jsou výskyty jednotlivých znaků nezávislé na tom, ze kterého textu pochází. Výsledek testu jsme mohli předpokládat z grafu v úloze 2. a faktu, že jsou oba texty původem z Britských ostrovů, nicméně p hodnota je pouze 5.5% tedy od zamítnutí $H_0$ nejsme daleko."
   ]
  },
  {
   "cell_type": "code",
   "execution_count": 29,
   "metadata": {},
   "outputs": [
    {
     "name": "stdout",
     "output_type": "stream",
     "text": [
      "Neupravená tabulka bez nulových sloupců: [[366  65 105 205 561 102  87 276 279   7  37 194 109 344 357  65   8 260\n",
      "  284 447 111  34 118   2  95   0]\n",
      " [391  69  94 171 542 104  96 281 300   6  45 169 136 278 341  72   4 299\n",
      "  290 468 117  52 118   8  96   5]]\n",
      "\n",
      "Testová statistika (old): Chi^2 =  36.508316364074126\n",
      "Stupně volnosti: 25\n",
      "Kritická hodnota: 37.65248413348277\n",
      "\n",
      "Výsledek podmínky zamítnutí (oldNchar): False\n",
      "\n",
      "Hodnota testové statistiky:  36.50831636407414\n",
      "p-hodnota: 0.0642331236670156\n"
     ]
    }
   ],
   "source": [
    "## vysledky na neupravene matici oldNchar\n",
    "print(\"Neupravená tabulka bez nulových sloupců:\",oldNchar)\n",
    "chi = np.sum(np.square(oldNchar - oldnppchar)/(oldnppchar))\n",
    "print('\\nTestová statistika (old): Chi^2 = ', chi)\n",
    "\n",
    "df = ((oldNchar.shape[0] - 1 )*(oldNchar.shape[1] - 1) )\n",
    "print(\"Stupně volnosti:\", df)\n",
    "print('Kritická hodnota:', stats.chi2.isf(0.05, df))\n",
    "print(\"\\nVýsledek podmínky zamítnutí (oldNchar):\",chi >= stats.chi2.isf(0.05, df))\n",
    "s, p, d, e = stats.chi2_contingency(oldNchar, correction = False)\n",
    "print(\"\\nHodnota testové statistiky: \", s)\n",
    "print(\"p-hodnota:\", p)"
   ]
  },
  {
   "cell_type": "markdown",
   "metadata": {},
   "source": [
    "## Závěr\n",
    "K analýze jsme si načetli dva velmi podobné texty - ze stejného období a na podobná témata, tudíž jsme ani v jedné úloze nezamítali nulovou hypotézu. Pro kontrolu správnosti jsme si také nagenerovali jiná data - konkrétně pro k = 20, tedy texty 001.txt a 011.txt (texty Americké literatury z let 1915 a 1876), kde nám výsledky testů vycházely právě opačně, ve všech úlohách jsme nulovou hypotézu zamítali ve prospěch alternativní a p-hodnoty vycházely blízko nule."
   ]
  }
 ],
 "metadata": {
  "kernelspec": {
   "display_name": "Python 3",
   "language": "python",
   "name": "python3"
  },
  "language_info": {
   "codemirror_mode": {
    "name": "ipython",
    "version": 3
   },
   "file_extension": ".py",
   "mimetype": "text/x-python",
   "name": "python",
   "nbconvert_exporter": "python",
   "pygments_lexer": "ipython3",
   "version": "3.6.8"
  },
  "latex_envs": {
   "LaTeX_envs_menu_present": true,
   "autoclose": false,
   "autocomplete": true,
   "bibliofile": "biblio.bib",
   "cite_by": "apalike",
   "current_citInitial": 1,
   "eqLabelWithNumbers": true,
   "eqNumInitial": 1,
   "hotkeys": {
    "equation": "Ctrl-E",
    "itemize": "Ctrl-I"
   },
   "labels_anchors": false,
   "latex_user_defs": false,
   "report_style_numbering": false,
   "user_envs_cfg": false
  }
 },
 "nbformat": 4,
 "nbformat_minor": 2
}
