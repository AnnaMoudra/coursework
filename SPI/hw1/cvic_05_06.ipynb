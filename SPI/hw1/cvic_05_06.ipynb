{
 "cells": [
  {
   "cell_type": "markdown",
   "metadata": {},
   "source": [
    "# Jupyter notebook ke cvičením 5 a 6 z MI-SPI.16 a MI-VSM\n",
    "### Import knihoven"
   ]
  },
  {
   "cell_type": "code",
   "execution_count": 1,
   "metadata": {},
   "outputs": [],
   "source": [
    "import numpy as np\n",
    "from scipy import stats\n",
    "from scipy.optimize import minimize\n",
    "\n",
    "import matplotlib.pyplot as plt\n",
    "%matplotlib inline"
   ]
  },
  {
   "cell_type": "markdown",
   "metadata": {},
   "source": [
    "### Příklad 5.1"
   ]
  },
  {
   "cell_type": "code",
   "execution_count": 4,
   "metadata": {},
   "outputs": [
    {
     "name": "stdout",
     "output_type": "stream",
     "text": [
      "Výběrový průměr: 0.4861999999999999\n",
      "Výběrový rozptyl: 0.0004721777777777777\n"
     ]
    }
   ],
   "source": [
    "# Data\n",
    "X = [0.510,0.462,0.491,0.466,0.451,0.503,0.475,0.487,0.512,0.505]\n",
    "n = len(X)\n",
    "\n",
    "# Základní charakteristiky\n",
    "meanX = np.mean(X)\n",
    "varX = np.var(X, ddof = 1)\n",
    "\n",
    "print(\"Výběrový průměr:\", meanX)\n",
    "print(\"Výběrový rozptyl:\", varX)"
   ]
  },
  {
   "cell_type": "markdown",
   "metadata": {},
   "source": [
    "Spočteme testovou statistiku pro test hypotézy $H_0: \\mu \\geq 0.5$ oproti alternativě $H_A: \\mu < 0.5$.\n",
    "Protože neznáme rozptyl je určena vztahem:\n",
    "$$\n",
    "    T = \\frac{\\bar{X}_n-\\mu_0}{\\sigma}\\sqrt{n}\n",
    "$$"
   ]
  },
  {
   "cell_type": "code",
   "execution_count": 6,
   "metadata": {},
   "outputs": [
    {
     "name": "stdout",
     "output_type": "stream",
     "text": [
      "Hodnota testové statistiky: T =  -2.0082894852651494\n"
     ]
    }
   ],
   "source": [
    "T = (meanX - 0.5)/np.sqrt(varX)*np.sqrt(n)\n",
    "print(\"Hodnota testové statistiky: T = \", T)"
   ]
  },
  {
   "cell_type": "markdown",
   "metadata": {},
   "source": [
    "Jedná se o jednostranný test. Zamítáme pokud $T \\leq -t_{\\alpha, n-1}$."
   ]
  },
  {
   "cell_type": "code",
   "execution_count": 13,
   "metadata": {},
   "outputs": [
    {
     "name": "stdout",
     "output_type": "stream",
     "text": [
      "Kritická hodnota: t =  1.8331129326536337\n",
      "Zamítáme:  True\n"
     ]
    }
   ],
   "source": [
    "# hladina testu\n",
    "alpha = 0.05\n",
    "\n",
    "# kritická hodnota\n",
    "t = stats.t.isf(alpha, n-1)\n",
    "print(\"Kritická hodnota: t = \", t)\n",
    "\n",
    "# výsledek testu\n",
    "print(\"Zamítáme: \",T <= -t)"
   ]
  },
  {
   "cell_type": "markdown",
   "metadata": {},
   "source": [
    "$p$-hodnotu získáme z podmínky $T = -t_{\\hat p, n-1}$"
   ]
  },
  {
   "cell_type": "code",
   "execution_count": 16,
   "metadata": {},
   "outputs": [
    {
     "name": "stdout",
     "output_type": "stream",
     "text": [
      "p hodnota:  0.03776810459633805\n"
     ]
    }
   ],
   "source": [
    "# p hodnota\n",
    "pval = stats.t.sf(-T, n-1)\n",
    "print(\"p-hodnota: \", pval)"
   ]
  },
  {
   "cell_type": "markdown",
   "metadata": {},
   "source": [
    "**Můžeme to také udělat pomocí předdefinovaného testu**"
   ]
  },
  {
   "cell_type": "code",
   "execution_count": 29,
   "metadata": {},
   "outputs": [
    {
     "name": "stdout",
     "output_type": "stream",
     "text": [
      "Hodnota testové statistiky: T =  -2.00828948526515\n",
      "p hodnota:  0.037768104596338024\n"
     ]
    }
   ],
   "source": [
    "# jednovýběrový t test\n",
    "T_, pval_ = stats.ttest_1samp(X, 0.5)\n",
    "# Testová statistika je stejná\n",
    "print(\"Hodnota testové statistiky: T = \", T_)\n",
    "# P hodnota pro jednostranný test\n",
    "print(\"p-hodnota: \", pval_/2)"
   ]
  },
  {
   "cell_type": "markdown",
   "metadata": {},
   "source": [
    "**Pozor:** funkce vrací p hodnotu oboustranného testu. K získání p hodnoty jednostranného testu je třeba vynásobit dvěma!"
   ]
  },
  {
   "cell_type": "markdown",
   "metadata": {},
   "source": [
    "### Příklad 5.2\n",
    "\n",
    "Označme $k$ počet panen a $n$ celkový počet hodů."
   ]
  },
  {
   "cell_type": "code",
   "execution_count": 33,
   "metadata": {},
   "outputs": [
    {
     "name": "stdout",
     "output_type": "stream",
     "text": [
      "Výběrový průměr: 0.4\n",
      "Výběrový rozptyl: 0.25\n",
      "Hodnota testové statistiky: T =  -0.9999999999999998\n",
      "p hodnota:  0.32728688127978545\n"
     ]
    }
   ],
   "source": [
    "# výsledek pokusu\n",
    "n = 25   # počet hodů\n",
    "k = 10   # počet pannen\n",
    "\n",
    "# Základní charakteristiky\n",
    "meanX = k/n\n",
    "varX = (k*(1-meanX)**2 + (n-k)*(0 - meanX)**2)/(n-1)\n",
    "print(\"Výběrový průměr:\", meanX)\n",
    "print(\"Výběrový rozptyl:\", varX)\n",
    "\n",
    "# T statistika\n",
    "T = (meanX - 0.5)/np.sqrt(varX)*np.sqrt(n)\n",
    "print(\"Hodnota testové statistiky: T = \", T)\n",
    "# p hodnota\n",
    "pval = stats.t.sf(-T, n-1)*2\n",
    "print(\"p-hodnota: \", pval)"
   ]
  },
  {
   "cell_type": "markdown",
   "metadata": {},
   "source": [
    "### Příklad 5.3"
   ]
  },
  {
   "cell_type": "code",
   "execution_count": 39,
   "metadata": {},
   "outputs": [
    {
     "name": "stdout",
     "output_type": "stream",
     "text": [
      "Rozdíly:\n",
      "[-0.12  0.29  0.26 -0.11  0.2   0.33 -0.2   0.08  0.38  0.6 ]\n",
      "Hodnota testové statistiky: T =  2.1201062395856716\n",
      "p-hodnota: 0.03151335300716899\n"
     ]
    }
   ],
   "source": [
    "# Data\n",
    "X = np.array([0.82, 1.08, 1.01, 0.63, 1.45, 1.12, 0.56, 0.83, 1.16, 1.38])\n",
    "Y = np.array([0.94, 0.79, 0.75, 0.74, 1.25, 0.79, 0.76, 0.75, 0.78, 0.78])\n",
    "Z = X - Y\n",
    "print(\"Rozdíly:\")\n",
    "print(Z)\n",
    "\n",
    "# Statistiky\n",
    "T, p = stats.ttest_rel(X,Y)\n",
    "print(\"Hodnota testové statistiky: T = \", T)\n",
    "print(\"p-hodnota:\", p/2)"
   ]
  },
  {
   "cell_type": "markdown",
   "metadata": {},
   "source": [
    "### Příklad 5.4"
   ]
  },
  {
   "cell_type": "code",
   "execution_count": 41,
   "metadata": {},
   "outputs": [
    {
     "name": "stdout",
     "output_type": "stream",
     "text": [
      "Výběrový průměr X: 0.47225 Výběrový rozptyl X: 0.000673583333333333\n",
      "Výběrový průměr Y: 0.4955 Výběrový rozptyl Y: 0.00018630000000000033\n"
     ]
    }
   ],
   "source": [
    "# Data\n",
    "X = [0.510, 0.462, 0.451, 0.466]\n",
    "Y = [0.491, 0.503, 0.475, 0.487, 0.512, 0.505]\n",
    "\n",
    "n = len(X)\n",
    "m = len(Y)\n",
    "muX = np.mean(X)\n",
    "muY = np.mean(Y)\n",
    "sX2 = np.var(X, ddof=1)\n",
    "sY2 = np.var(Y, ddof=1)\n",
    "print(\"Výběrový průměr X:\", muX,\"Výběrový rozptyl X:\", sX2)\n",
    "print(\"Výběrový průměr Y:\", muY,\"Výběrový rozptyl Y:\", sY2)"
   ]
  },
  {
   "cell_type": "code",
   "execution_count": 44,
   "metadata": {},
   "outputs": [
    {
     "name": "stdout",
     "output_type": "stream",
     "text": [
      "Testová statistika: 3.6155841832170252\n",
      "p-hodnota: 0.20034691419001555\n"
     ]
    }
   ],
   "source": [
    "# Test shodnosti rozptylů\n",
    "F = sX2 / sY2\n",
    "print(\"Testová statistika:\", F)\n",
    "p_value = 2*stats.f.sf(F, n-1, m-1)\n",
    "print(\"p-hodnota:\", p_value)"
   ]
  },
  {
   "cell_type": "markdown",
   "metadata": {},
   "source": [
    "Uvažujme tedy stejné rozptyly."
   ]
  },
  {
   "cell_type": "code",
   "execution_count": 48,
   "metadata": {},
   "outputs": [
    {
     "name": "stdout",
     "output_type": "stream",
     "text": [
      "Hodnota testové statistiky: T =  -1.8749815817538935\n",
      "Kritická hodnota: t =  2.306004135033371\n",
      "Zamítáme:  False\n",
      "p-hodnota: 0.09765627533486607\n"
     ]
    }
   ],
   "source": [
    "# T-test se stejnými rozptyly\n",
    "s12 = np.sqrt(((n-1)*sX2 + (m-1)*sY2)/(n+m-2))\n",
    "T = (muX - muY)/s12*np.sqrt(n*m/(n+m))\n",
    "\n",
    "print(\"Hodnota testové statistiky: T = \", T)\n",
    "\n",
    "krit = stats.t.isf(0.05/2, df = n+m-2)\n",
    "print(\"Kritická hodnota: t = \", krit)\n",
    "\n",
    "# výsledek testu\n",
    "print(\"Zamítáme: \",np.abs(T) >= krit)\n",
    "\n",
    "# p-hodnota\n",
    "p_value = 2*stats.t.sf(np.abs(T), df = n + m -2)\n",
    "print(\"p-hodnota:\", p_value)"
   ]
  },
  {
   "cell_type": "code",
   "execution_count": 51,
   "metadata": {},
   "outputs": [
    {
     "name": "stdout",
     "output_type": "stream",
     "text": [
      "Hodnota testové statistiky: T =  -1.8749815817538935\n",
      "p-hodnota: 0.09765627533486607\n"
     ]
    }
   ],
   "source": [
    "T_, p_ = stats.ttest_ind(X, Y, equal_var = True)\n",
    "print(\"Hodnota testové statistiky: T = \", T_)\n",
    "print(\"p-hodnota:\", p_)"
   ]
  },
  {
   "cell_type": "markdown",
   "metadata": {},
   "source": [
    "### Příklad 6.1"
   ]
  },
  {
   "cell_type": "code",
   "execution_count": 52,
   "metadata": {
    "scrolled": true
   },
   "outputs": [
    {
     "name": "stdout",
     "output_type": "stream",
     "text": [
      "Četnosti:  [8. 8. 3. 1.]\n"
     ]
    },
    {
     "data": {
      "image/png": "[encoded data removed]",
      "text/plain": [
       "<Figure size 432x288 with 1 Axes>"
      ]
     },
     "metadata": {},
     "output_type": "display_data"
    }
   ],
   "source": [
    "# Data\n",
    "X = [0.055 , 0.068 , 0.102 , 0.105 , 0.118 , 0.160 , 0.178 , 0.203 , 0.260 , 0.274, 0.289 , 0.291 , 0.346 , 0.358 , 0.366 , 0.472 , 0.588 , 0.617 , 0.721 , 0.932]\n",
    "n = len(X)\n",
    "\n",
    "# Napočítáme četnosti v ekvidistantních chlívcích\n",
    "N, bins, patches = plt.hist(X, bins=4, density = False, range = (0, 1))\n",
    "print(\"Četnosti: \", N)"
   ]
  },
  {
   "cell_type": "code",
   "execution_count": 58,
   "metadata": {},
   "outputs": [
    {
     "name": "stdout",
     "output_type": "stream",
     "text": [
      "p =  [0.25 0.25 0.25 0.25]\n",
      "Teoretické četnosti: n*p =  [5. 5. 5. 5.]\n",
      "Testová statistika:  7.6000000000000005\n",
      "Hodnota testové statistiky:  7.6000000000000005\n",
      "p-hodnota: 0.05504393637887805\n"
     ]
    }
   ],
   "source": [
    "# Teoretické pravděpodobnosti\n",
    "p = np.ones(4)*1/4\n",
    "print(\"p = \",p)\n",
    "print(\"Teoretické četnosti: n*p = \", n*p)\n",
    "\n",
    "chi = np.sum(np.square(N - n*p)/(n*p))\n",
    "print(\"Testová statistika: \", chi)\n",
    "\n",
    "# To stejné pomocí implementovaného testu\n",
    "s, p = stats.chisquare(N, n*p)\n",
    "print(\"Hodnota testové statistiky: \", s)\n",
    "print(\"p-hodnota:\", p)"
   ]
  },
  {
   "cell_type": "markdown",
   "metadata": {},
   "source": [
    "### Příklad 6.2"
   ]
  },
  {
   "cell_type": "code",
   "execution_count": 76,
   "metadata": {},
   "outputs": [
    {
     "name": "stdout",
     "output_type": "stream",
     "text": [
      "Skutečné četnosti\n",
      " [[12  7 21]\n",
      " [ 8 23 29]]\n",
      "Celková suma: n =  100\n",
      "\n",
      "p_ib =  [[0.4 0.6]]\n",
      "p_bj =  [[0.2 0.3 0.5]]\n",
      "\n",
      "Teoretické četnosti n*p\n",
      " [[ 8. 12. 20.]\n",
      " [12. 18. 30.]]\n",
      "\n",
      "Testová statistika: Chi^2 =  6.888888888888886\n",
      "Kritická hodnota: 5.991464547107983\n",
      "\n",
      "Zamítáme:  True\n",
      "\n",
      "Hodnota testové statistiky:  6.888888888888889\n",
      "p-hodnota: 0.031922491834895705\n"
     ]
    }
   ],
   "source": [
    "# Matice skutečných četností (po sloučení CC1 a CC2)\n",
    "N = np.matrix([[12, 7, 21],[8, 23, 29]])\n",
    "print('Skutečné četnosti\\n',N)\n",
    "\n",
    "n = np.sum(N)\n",
    "print('Celková suma: n = ',n)\n",
    "\n",
    "# Odhady marginálních pravděpodobností (parametrů)\n",
    "pbj = np.sum(N, axis = 0)/n\n",
    "pib = np.sum(N, axis = 1)/n\n",
    "print('\\np_ib = ', pib.reshape((-1,)))\n",
    "print('p_bj = ', pbj)\n",
    "\n",
    "# Výpočet teoretických četností\n",
    "npp = np.matmul(pib, pbj)*n\n",
    "print('\\nTeoretické četnosti n*p\\n', npp)\n",
    "\n",
    "# Statistika\n",
    "chi = np.sum(np.square(N - npp)/(npp))\n",
    "print('\\nTestová statistika: Chi^2 = ', chi)\n",
    "print('Kritická hodnota:', stats.chi2.isf(0.05, 2))\n",
    "\n",
    "# výsledek testu\n",
    "print(\"\\nZamítáme: \",chi >= stats.chi2.isf(0.05, 2))\n",
    "\n",
    "# Pomocí funkce\n",
    "s, p, d, e = stats.chi2_contingency(N, correction = False)\n",
    "print(\"\\nHodnota testové statistiky: \", s)\n",
    "print(\"p-hodnota:\", p)"
   ]
  },
  {
   "cell_type": "markdown",
   "metadata": {},
   "source": [
    "### Příklad 6.3"
   ]
  },
  {
   "cell_type": "code",
   "execution_count": 93,
   "metadata": {},
   "outputs": [
    {
     "name": "stdout",
     "output_type": "stream",
     "text": [
      "[1 1 1 0 1 0 1 0 1 0 0 1 1 1 1 0 1 1 0 1 1 0 0 1]\n",
      "[ 0  0 -1  1 -1  1 -1  1 -1  0  1  0  0  0 -1  1  0 -1  1  0 -1  0  1]\n",
      "\n",
      "Počet bloků: Nn =  15\n",
      "Testová statistika:  1.0425720702853738\n",
      "Kritická hodnota: 1.9599639845400545\n",
      "p-hodnota: 0.2971465303484704\n"
     ]
    },
    {
     "data": {
      "image/png": "[encoded data removed]",
      "text/plain": [
       "<Figure size 432x288 with 1 Axes>"
      ]
     },
     "metadata": {},
     "output_type": "display_data"
    }
   ],
   "source": [
    "n = 24\n",
    "res = np.random.randint(2, size=24)\n",
    "plt.plot(res, '-*')\n",
    "print(res)\n",
    "diff = np.diff(res)\n",
    "print(diff)\n",
    "Nn = np.sum(abs(diff)) + 1\n",
    "print(\"\\nPočet bloků: Nn = \", Nn)\n",
    "\n",
    "# Testová statistika\n",
    "T = (2*Nn - n -1)/np.sqrt(n-1)\n",
    "print(\"Testová statistika: \", T)\n",
    "print('Kritická hodnota:', stats.norm.isf(0.05/2))\n",
    "p_value = 2*stats.norm.sf(np.abs(T))\n",
    "print(\"p-hodnota:\", p_value)"
   ]
  },
  {
   "cell_type": "markdown",
   "metadata": {},
   "source": [
    "### Příklad 6.4"
   ]
  },
  {
   "cell_type": "code",
   "execution_count": 91,
   "metadata": {},
   "outputs": [
    {
     "name": "stdout",
     "output_type": "stream",
     "text": [
      "30\n",
      "[ 0.9  -0.6   0.27 -0.27 -0.18  0.39 -0.4   0.5  -0.53  0.38 -0.07  0.36\n",
      " -0.66  0.6  -0.42  0.34 -0.57  0.41 -0.04 -0.35 -0.08  0.13 -0.08  0.02\n",
      " -0.02  0.76 -0.36  0.19 -0.29]\n",
      "[1 0 1 0 0 1 0 1 0 1 0 1 0 1 0 1 0 1 0 0 0 1 0 1 0 1 0 1 0]\n",
      "[-1  1 -1  0  1 -1  1 -1  1 -1  1 -1  1 -1  1 -1  1 -1  0  0  1 -1  1 -1\n",
      "  1 -1  1 -1]\n",
      "\n",
      "Počet bloků: Nn =  26\n",
      "Testová statistika:  2.8292109482681638\n",
      "Kritická hodnota: 1.9599639845400545\n",
      "p-hodnota: 0.004666293057072291\n"
     ]
    },
    {
     "data": {
      "image/png": "[encoded data removed]",
      "text/plain": [
       "<Figure size 432x288 with 1 Axes>"
      ]
     },
     "metadata": {},
     "output_type": "display_data"
    }
   ],
   "source": [
    "X = [0.03, 0.93, 0.33, 0.60, 0.33, 0.15, 0.54, 0.14, 0.64, 0.11, 0.49, 0.42, 0.78, 0.12, 0.72,\n",
    "0.30, 0.64, 0.07, 0.48, 0.44, 0.09, 0.01, 0.14, 0.06, 0.08, 0.06, 0.82, 0.46, 0.65, 0.36]\n",
    "plt.plot(X,'-*')\n",
    "n = len(X)\n",
    "print(n)\n",
    "diff = np.diff(X)\n",
    "print(diff)\n",
    "inddiff = 1*(diff > 0)\n",
    "print(inddiff)\n",
    "dif2 = np.diff(inddiff)\n",
    "print(dif2)\n",
    "\n",
    "Nn = np.sum(abs(dif2)) + 1\n",
    "print(\"\\nPočet bloků: Nn = \", Nn)\n",
    "\n",
    "T = (3*Nn - 2*n +1)/np.sqrt(1.6*n-2.9)\n",
    "\n",
    "print(\"Testová statistika: \", T)\n",
    "print('Kritická hodnota:', stats.norm.isf(0.05/2))\n",
    "p_value = 2*stats.norm.sf(np.abs(T))\n",
    "print(\"p-hodnota:\", p_value)"
   ]
  },
  {
   "cell_type": "code",
   "execution_count": null,
   "metadata": {},
   "outputs": [],
   "source": []
  }
 ],
 "metadata": {
  "kernelspec": {
   "display_name": "Python 3",
   "language": "python",
   "name": "python3"
  },
  "language_info": {
   "codemirror_mode": {
    "name": "ipython",
    "version": 3
   },
   "file_extension": ".py",
   "mimetype": "text/x-python",
   "name": "python",
   "nbconvert_exporter": "python",
   "pygments_lexer": "ipython3",
   "version": "3.5.2"
  }
 },
 "nbformat": 4,
 "nbformat_minor": 2
}
